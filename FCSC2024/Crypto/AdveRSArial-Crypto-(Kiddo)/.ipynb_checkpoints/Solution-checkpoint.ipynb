{
 "cells": [
  {
   "cell_type": "code",
   "execution_count": 2,
   "id": "3180115d-1c8c-450e-86a2-d10a4b42c2a8",
   "metadata": {},
   "outputs": [],
   "source": []
  },
  {
   "cell_type": "code",
   "execution_count": null,
   "id": "e5f099a4-16ee-4ae9-aa0c-9b777dfbd825",
   "metadata": {},
   "outputs": [],
   "source": [
    "https://sectt.github.io/writeups/GoogleCTF20/crypto_yafm/README\n"
   ]
  },
  {
   "cell_type": "code",
   "execution_count": 14,
   "id": "fdcb17e0-8568-43b8-b3f0-12fc090c094b",
   "metadata": {},
   "outputs": [
    {
     "name": "stderr",
     "output_type": "stream",
     "text": [
      "100%|██████████████████████████████████████| 1024/1024 [00:06<00:00, 161.32it/s]"
     ]
    },
    {
     "name": "stdout",
     "output_type": "stream",
     "text": [
      "b'FCSC{42d7dc2fb6e5429e4ead6c9c72f561504f514dcfe7de23deb343b43bf0e4120a}'\n"
     ]
    },
    {
     "name": "stderr",
     "output_type": "stream",
     "text": [
      "\n"
     ]
    }
   ],
   "source": [
    "import bisect\n",
    "from Crypto.Util.number import long_to_bytes\n",
    "from tqdm import tqdm\n",
    "\n",
    "n = 32317006071311007300714876688669951960444102669715484116646415746394635540935921521724498858714153019942728273207389351392489359055364847068112159175081645180751388138858639873796530441238955101568733568176426113140426646976937052525918530731769533330028543775101205176486450544323218351858348091394877603920443607214945787590258064663918917740728042628406529049644873974905470262922605695823668958842546472908325174694333334844222696779786423580284135591089906934014814106737656354549850191740172203279085863986305338341130808123659535483768004216490879857791785965848808238698345641038729244197829259714168491081729\n",
    "e = 65537\n",
    "c = 0x00bae65fbca88fea74202821d1773fa90e1a6e3532b3e60f1516ad8e04c84c1c42b733206d5b10bfeada9facd35adc426234b31183398adc4d0e842a3a2d09756f9e0bcdfdfe5b553dab4b21ea602eba4dc7db589f69360e1a598048ea0b719e7ab3ca25dec80acdaec582140877da1ce4c912425c43b1e19757309c2383b3b48ebbfcdac5bddfa167bbf1f7a31ec2a7758a52579956600306ca0dab86d5b37d3a7dfc9429a757f978905c01e46bd6d7c32f314a5916107545ad1cb17d76962b4ac11bbb6020a3ff0175d72081cc47cfd486ff05ed8799e2dd0991ce7b4f4ba2f2eae9dbddecc43e9d7a3899f6b493a839d5be7f9fe856fbe238e10047a7ad2945\n",
    "\n",
    "KEEP = 1500\n",
    "\n",
    "def find_sols_Kplusone(solsK, k):\n",
    "    global n\n",
    "    solsk = []\n",
    "    seen = {}\n",
    "\n",
    "    n_mod_k = n % 2**k\n",
    "    for weight, p,q in solsK:\n",
    "        p2 = p + 2**k\n",
    "        q2 = q + 2**k\n",
    "        n1 = p*q % 2**k\n",
    "        n2 = p2*q % 2**k\n",
    "        n3 = p*q2 % 2**k\n",
    "        n4 = p2*q2 % 2**k\n",
    "    \n",
    "        if n1 == n_mod_k and (p,q) not in seen:\n",
    "            bisect.insort(solsk, ((weight, p,q)))\n",
    "            seen[(p,q)] = True\n",
    "            seen[(q,p)] = True\n",
    "        \n",
    "        if n2 == n_mod_k and (p,q2) not in seen:\n",
    "            bisect.insort(solsk, ((weight+1, p,q2)))\n",
    "            seen[(p,q2)] = True\n",
    "            seen[(q2,p)] = True\n",
    "        \n",
    "        if n3 == n_mod_k and (p2,q) not in seen:\n",
    "            bisect.insort(solsk, ((weight+1, p2,q)))\n",
    "            seen[(p2,q)] = True\n",
    "            seen[(q,p2)] = True\n",
    "        \n",
    "        if n4 == n_mod_k and (p2,q2) not in seen:\n",
    "            bisect.insort(solsk, ((weight+2, p2,q2)))\n",
    "            seen[(p2,q2)] = True\n",
    "            seen[(q2,p2)] = True\n",
    "        \n",
    "    return solsk[:KEEP]\n",
    "\n",
    "sols = [(2,1,1)]\n",
    "for k in tqdm(range(1, 1025)):\n",
    "    sols = find_sols_Kplusone(sols, k)\n",
    "\n",
    "for w,p,q in sols:\n",
    "    if n % p == 0:\n",
    "        p, q = p, n//p \n",
    "        break\n",
    "    if n % q == 0:\n",
    "        p, q = n//q, q\n",
    "        break\n",
    "\n",
    "try:\n",
    "    assert n == p * q\n",
    "    d = pow (e, -1, (p-1)*(q-1))\n",
    "    print(long_to_bytes(pow (c, d, n)).split(b'\\x00')[-1])\n",
    "except:\n",
    "    print(\"attack_failed\")"
   ]
  },
  {
   "cell_type": "code",
   "execution_count": null,
   "id": "bd28a4a7-ca15-4041-96a7-88ce4951e012",
   "metadata": {},
   "outputs": [],
   "source": []
  }
 ],
 "metadata": {
  "kernelspec": {
   "display_name": "SageMath 10.2",
   "language": "sage",
   "name": "sagemath"
  },
  "language_info": {
   "codemirror_mode": {
    "name": "ipython",
    "version": 3
   },
   "file_extension": ".py",
   "mimetype": "text/x-python",
   "name": "python",
   "nbconvert_exporter": "python",
   "pygments_lexer": "ipython3",
   "version": "3.11.1"
  }
 },
 "nbformat": 4,
 "nbformat_minor": 5
}
