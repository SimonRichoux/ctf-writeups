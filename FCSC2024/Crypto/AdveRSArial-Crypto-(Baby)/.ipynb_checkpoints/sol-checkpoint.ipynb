{
 "cells": [
  {
   "cell_type": "markdown",
   "id": "cc0f3a7c-4f71-4bc6-9077-c74ce0d30abd",
   "metadata": {},
   "source": [
    "# AdveRSArial Crypto (Baby)"
   ]
  },
  {
   "cell_type": "code",
   "execution_count": 23,
   "id": "5e591225-20e0-4a2f-8976-47a20ecc2467",
   "metadata": {},
   "outputs": [
    {
     "data": {
      "text/plain": [
       "b\"\\x02mF\\x03\\xb9\\xe6(s\\xb5\\xd0\\x88\\xdd\\xdc|N\\n\\xbbr\\xb8~\\x0cI\\xce\\xea{'\\xc8\\x7f\\x1eS\\x8dz\\xbcf\\x87\\xb0\\n+\\xf2\\x19=\\x0f3\\xef\\xa8M'\\x8f\\x02}\\xb8\\x07\\xee\\xe7\\xb3\\\\\\xbd\\x00FCSC{0224e979da8a6069869ccfc040abb680ffd35e3ba61bcc0e0683662c33fa81c0}\""
      ]
     },
     "execution_count": 23,
     "metadata": {},
     "output_type": "execute_result"
    }
   ],
   "source": [
    "from Crypto.Util.number import long_to_bytes\n",
    "\n",
    "n = 179770685017248789197537661565815269934203562120851089179122414399064734715990794430000078278988633398024403072323955508476586487162411822366599111412534539430740137196265242371128714558362082882520001747685222655863817125733693411058452743768818267918688593648334613756045157321491607233744902053478170361857\n",
    "e = 65537\n",
    "c = 0x000c307feca4371acecab2690800586b967909e12ec3e80184666ca161129f86c6cd87e276127a1f9b672b66ba3d715321b24f7d660a928d829c154dcdc0634b99f51e281c2e138f77a04694ff7aeec25c938cf769fbd7d3f2968f0b96fc5d38a8f742f6a46e70d7eae8280ed61f0328df36497f0cb6251b0e13a2bc5adce6344a\n",
    "\n",
    "R.<X> = PolynomialRing(ZZ)\n",
    "\n",
    "T = sum([int(a) * X^i for i, a in enumerate(bin(n)[2:][::-1])])\n",
    "P, Q = factor(T)\n",
    "p, q = P[0](2), Q[0](2)\n",
    "assert n == p * q\n",
    "phi = (p-1) * (q-1)\n",
    "d = pow(e, -1, phi)\n",
    "long_to_bytes(pow (c, d, n))"
   ]
  },
  {
   "cell_type": "code",
   "execution_count": null,
   "id": "cb420099-89a4-4034-8349-181c14b2180a",
   "metadata": {},
   "outputs": [],
   "source": []
  }
 ],
 "metadata": {
  "kernelspec": {
   "display_name": "SageMath 10.2",
   "language": "sage",
   "name": "sagemath"
  },
  "language_info": {
   "codemirror_mode": {
    "name": "ipython",
    "version": 3
   },
   "file_extension": ".py",
   "mimetype": "text/x-python",
   "name": "python",
   "nbconvert_exporter": "python",
   "pygments_lexer": "ipython3",
   "version": "3.11.1"
  }
 },
 "nbformat": 4,
 "nbformat_minor": 5
}
