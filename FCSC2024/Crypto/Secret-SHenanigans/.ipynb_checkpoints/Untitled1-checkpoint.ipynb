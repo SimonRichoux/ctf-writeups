{
 "cells": [
  {
   "cell_type": "code",
   "execution_count": 1,
   "id": "eab26688-cd48-43b8-8b5c-480f49477415",
   "metadata": {},
   "outputs": [],
   "source": [
    "from Crypto.Hash import HMAC, SHA256\n",
    "from Crypto.Cipher import AES\n",
    "from Crypto.PublicKey import ECC\n",
    "from Crypto.Signature import DSS\n",
    "\n",
    "def sc_send_packet(send, recv, cmd_type, payload, kenc, kmac, packet_counter, iv):\n",
    "\n",
    "    # Get the padding to apply\n",
    "    pad = AES.block_size - ((len(payload) + 2) % AES.block_size)\n",
    "    payload = cmd_type + len(payload).to_bytes(1, byteorder = 'big') + payload + (pad * b'\\x00')\n",
    "\n",
    "    # Encrypt the padder payload\n",
    "    cipher = AES.new(kenc, AES.MODE_CBC, iv = iv)\n",
    "    payload = cipher.encrypt(payload)\n",
    "\n",
    "    # Compute the HMAC on\n",
    "    h = HMAC.new(kmac, digestmod = SHA256)\n",
    "    if len(payload) + h.digest_size > 255:\n",
    "        logger.error(\"[ERROR] Payload len is too big\")\n",
    "        thread_exit()\n",
    "\n",
    "    prepend = (len(payload) + h.digest_size).to_bytes(1, byteorder = 'big')\n",
    "\n",
    "    # Update with the implicit 64 bits packet counter\n",
    "    h.update(packet_counter.to_bytes(8, byteorder = 'big'))\n",
    "\n",
    "    # Update with the length\n",
    "    h.update(prepend)\n",
    "    h.update(payload)\n",
    "    # Append the HMAC\n",
    "    new_iv = payload[-AES.block_size:]\n",
    "    payload = prepend + payload + h.digest()\n",
    "\n",
    "    # Check the whole length\n",
    "    if len(payload) > 255:\n",
    "        logger.error(f\"[ERROR] Payload len {len(payload)} is too big\")\n",
    "        thread_exit()\n",
    "\n",
    "    send(payload)\n",
    "    return packet_counter + 1, new_iv"
   ]
  },
  {
   "cell_type": "code",
   "execution_count": 2,
   "id": "ed663265-9eda-4ab7-beb1-2166d4208d69",
   "metadata": {},
   "outputs": [],
   "source": [
    "def sc_recv_packet(send, recv, kenc, kmac, packet_counter, iv, expected_cmd = None):\n",
    "\n",
    "    h = HMAC.new(kmac, digestmod = SHA256)\n",
    "\n",
    "    # Receive the encrypted command length\n",
    "    packet_len_byte = recv(1)\n",
    "    packet_len = int.from_bytes(packet_len_byte, byteorder = 'big')\n",
    "\n",
    "    # Receive the rest\n",
    "    packet = recv(packet_len)\n",
    "\n",
    "    # Packet should be at least MAC plus one block\n",
    "    if len(packet) < (h.digest_size + AES.block_size):\n",
    "        print(\"[ERROR] Unexpected encrypted packet!\")\n",
    "        thread_exit()\n",
    "\n",
    "    # Check the mac\n",
    "    mac = packet[-h.digest_size:]\n",
    "    enc_payload = packet[:-h.digest_size]\n",
    "    new_iv = enc_payload[-AES.block_size:]\n",
    "\n",
    "    # Update with length and packet counter\n",
    "    h.update(packet_counter.to_bytes(8, byteorder = 'big'))\n",
    "    h.update(packet_len_byte)\n",
    "    h.update(enc_payload)\n",
    "    hmac = h.digest()\n",
    "    if hmac != mac:\n",
    "        print(\"[ERROR] Erroneous MAC in encrypted packet!\")\n",
    "        thread_exit()\n",
    "\n",
    "    # MAC is OK, decrypt stuff\n",
    "    cipher = AES.new(kenc, AES.MODE_CBC, iv = iv)\n",
    "    payload = cipher.decrypt(enc_payload)\n",
    "    if len(payload) < 2:\n",
    "        print(\"[ERROR] Erroneous payload size in encypted packet!\")\n",
    "        thread_exit()\n",
    "\n",
    "    cmd = payload[0:1]\n",
    "    if expected_cmd is not None:\n",
    "        if expected_cmd != cmd:\n",
    "            print(f\"[ERROR] Unexpected command {expected_cmd} != {cmd}\")\n",
    "            thread_exit()\n",
    "\n",
    "    real_len = int.from_bytes(payload[1:2], 'big')\n",
    "    if len(payload[2:]) < real_len:\n",
    "        print(\"[ERROR] Bad encrypted packet structure\")\n",
    "        thread_exit()\n",
    "\n",
    "    payload = payload[2:2 + real_len]\n",
    "    return cmd, payload, packet_counter + 1, new_iv"
   ]
  },
  {
   "cell_type": "code",
   "execution_count": null,
   "id": "1bb6b184-4243-4396-b86f-84b0e4d73737",
   "metadata": {},
   "outputs": [],
   "source": []
  },
  {
   "cell_type": "code",
   "execution_count": 18,
   "id": "c3f51fd2-24f4-4df8-b427-5bec5f701e7e",
   "metadata": {},
   "outputs": [],
   "source": [
    "INITIAL_SEND_IV = b'\\xaa' * 16\n",
    "packet = bytes.fromhex(a)\n",
    "packet = packet[1:packet[0]]\n",
    "mac = packet[32:]\n",
    "enc_payload = packet[:-32]\n",
    "new_iv = enc_payload[-AES.block_size:]"
   ]
  },
  {
   "cell_type": "code",
   "execution_count": 24,
   "id": "7c80bd84-0256-4aab-a212-1371a82c75ad",
   "metadata": {},
   "outputs": [
    {
     "data": {
      "text/plain": [
       "0"
      ]
     },
     "execution_count": 24,
     "metadata": {},
     "output_type": "execute_result"
    }
   ],
   "source": [
    "new_iv[0] ^^ new_iv[0]"
   ]
  },
  {
   "cell_type": "code",
   "execution_count": null,
   "id": "428f9970-4412-4ec3-a6e0-3908ec24d86b",
   "metadata": {},
   "outputs": [],
   "source": []
  }
 ],
 "metadata": {
  "kernelspec": {
   "display_name": "SageMath 10.2",
   "language": "sage",
   "name": "sagemath"
  },
  "language_info": {
   "codemirror_mode": {
    "name": "ipython",
    "version": 3
   },
   "file_extension": ".py",
   "mimetype": "text/x-python",
   "name": "python",
   "nbconvert_exporter": "python",
   "pygments_lexer": "ipython3",
   "version": "3.11.1"
  }
 },
 "nbformat": 4,
 "nbformat_minor": 5
}
