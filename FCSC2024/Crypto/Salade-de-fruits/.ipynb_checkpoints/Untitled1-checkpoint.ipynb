{
 "cells": [
  {
   "cell_type": "code",
   "execution_count": 28,
   "id": "f433665d-be14-432a-9c15-9a74cf6ed7ef",
   "metadata": {},
   "outputs": [
    {
     "name": "stderr",
     "output_type": "stream",
     "text": [
      "100%|███████████████████████████████████████████| 99/99 [00:02<00:00, 35.17it/s]"
     ]
    },
    {
     "name": "stdout",
     "output_type": "stream",
     "text": [
      "FCSC{8ae87fc00d2576a29171a92db82f235443e41acd71cd0ba6acc766d985ebb72d}\n"
     ]
    },
    {
     "name": "stderr",
     "output_type": "stream",
     "text": [
      "\n"
     ]
    }
   ],
   "source": [
    "from tqdm import tqdm\n",
    "from hashlib import sha256\n",
    "\n",
    "N = 94\n",
    "E = EllipticCurve([0,0,0,0,-432*N**2])\n",
    "P = E.gens()[0]\n",
    "\n",
    "def return_z (P):\n",
    "    global N\n",
    "    u, v = P[0], P[1]\n",
    "    x, y = (36*N + v)/(6*u), (36*N - v)/(6*u)\n",
    "    return lcm (x.denominator(), y.denominator())\n",
    "    \n",
    "minimum = +Infinity\n",
    "R = P\n",
    "for i in tqdm(range (1, 100)):\n",
    "    R += P\n",
    "    if abs(float(((R)[1]))) < 36 * N:\n",
    "        z = return_z(R)\n",
    "        minimum = min(z, minimum)\n",
    "\n",
    "if minimum != +Infinity:\n",
    "    h = sha256(str(z).encode()).hexdigest()\n",
    "    print(f\"FCSC{{{h}}}\")\n",
    "else:\n",
    "    print(\"fail\")"
   ]
  },
  {
   "cell_type": "code",
   "execution_count": null,
   "id": "95ef85cd-0f79-4ff0-bba8-7825ce635367",
   "metadata": {},
   "outputs": [],
   "source": []
  }
 ],
 "metadata": {
  "kernelspec": {
   "display_name": "SageMath 10.2",
   "language": "sage",
   "name": "sagemath"
  },
  "language_info": {
   "codemirror_mode": {
    "name": "ipython",
    "version": 3
   },
   "file_extension": ".py",
   "mimetype": "text/x-python",
   "name": "python",
   "nbconvert_exporter": "python",
   "pygments_lexer": "ipython3",
   "version": "3.11.1"
  }
 },
 "nbformat": 4,
 "nbformat_minor": 5
}
