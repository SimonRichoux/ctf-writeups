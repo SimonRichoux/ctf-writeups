{
 "cells": [
  {
   "cell_type": "code",
   "execution_count": 538,
   "id": "86035ffe-15e3-4933-a747-9463cbcd8cab",
   "metadata": {},
   "outputs": [],
   "source": [
    "from hashlib import sha256\n",
    "\n",
    "W = 257\n",
    "msglen = 20\n",
    "siglen = 40\n",
    "n1 = siglen // 256 + 1\n",
    "n2 = W // 256 + 1\n",
    "\n",
    "Support = [\n",
    "              8,  17,  26,  32,  52,  53,  57,  58,\n",
    "             59,  63,  64,  66,  67,  71,  73,  76,\n",
    "             79,  81, 111, 115, 132, 135, 141, 144,\n",
    "            151, 157, 170, 176, 191, 192, 200, 201,\n",
    "            202, 207, 216, 224, 228, 237, 241, 252,\n",
    "        ]\n",
    "\n",
    "def H(s, m, i, j):\n",
    "    def _byte_xor(b1, b2):\n",
    "        assert len(b1) == len(b2), \"Error: byte strings of different length.\"\n",
    "        return bytes([x ^^ y for x, y in zip(b1, b2)])\n",
    "    return sha256(\n",
    "        _byte_xor(\n",
    "            s,\n",
    "            sha256(\n",
    "                m + i.to_bytes(n1) + j.to_bytes(n2)\n",
    "            ).digest()\n",
    "        )\n",
    "    ).digest()\n",
    "\n",
    "def encoding(msg):\n",
    "    w = [0] * len(Support)\n",
    "    for i in range(len(Support)):\n",
    "        for j in range(len(msg)):\n",
    "            # Constant coefficient is zero\n",
    "            w[i] += msg[j][0] * pow(Support[i],(j  + 1), W)\n",
    "        w[i] %= W\n",
    "    return w\n",
    "\n",
    "def verif(pk, message, signature):\n",
    "    mask_seed, PK = pk\n",
    "\n",
    "    w = encoding(message)\n",
    "    signature_check = signature.copy()\n",
    "    for i in range(40):\n",
    "        for j in range(w[i] + 1, 257):\n",
    "            signature_check[i] = H(signature_check[i], mask_seed, i, j)\n",
    "    return all(s == pk for s, pk in zip(signature_check, PK))\n",
    "\n",
    "message = b'WINTERNITZ IS COMING'\n",
    "signature = ['135afbb03df6926f070254b238cca5eb329bb3b44f990bc981a7bfc6444329f2', '6bf82aaf025014fff327fda879193d41d86a64b252f29cef4fdc05ba1f75c0d4', 'df42e73bc0ed41ccd195a71b896d2b19ae16a9843900095374d4c5c7b61fc20d', '3a6aebe1b74c5ac61f351ec67ccce2e36fa27a690fa996c31a748074d72bcce0', '51cf34c1e4b574e9df409530043a46d117dd1026326fac81cf4162ce4adae241', '11ce85adf1e8c57ca2471464db3ba1792acba4dfd71cad04b9d6ecb6701d9fd3', '5c07442df8fe3d496d5d83a09d2d3baf86bbe44aeb091e526396a6f14082627f', '5359c67f78335ca92e9d250abb542531c8ae268c1aba01124ccd6afa38f350d0', 'dd4a2d2455b36acca17a657b25fd0a8bd6d286fdfdf91239432b80864996b815', '0e7a00502c2179ddac169b5d3e9372cad6da0082057b0ae4130bc869d0235d7b', 'cf706c4710a57e19679105d6ebc5f5bae14b96fe41e83cebfd876b8fd6d7c043', 'd8ecac3e4c05e53aabc39fe3a2e93fe3d782006baf4e9df195c1835dc4fb8125', '2061865714dbe307b72c39b8f4368e3ab88e85184f4d3f47e6e0ac3dc62cb184', '92a21afc867f4d0cfdb2ad4f0a42a7b695427c30b0a24b23e6144b3fe61791de', 'db6f057725cb8a902a7a33155d6163c0fad449e9ab90fc3ad929ea92a4648d4d', '299e1ce95e5f94167066a13c2a2e7fa8d5cc3cd4bc35d8f6ae24f28244c37f54', 'eb2f2980a325f4016ff153b6b35e5cff6869c371d7155b51d7a849d050e016d6', 'e7dbd6f1990e7080a2e8a150e5a36539ac416ea3ccf9548b2de1efe6d01a386c', '4c28042bfef4d03e372915e3d379a9dafd2082abbf15a71c3e4d09c519bf26ae', 'f093bd16d03236f826aa5657eaa4a62e44590ea7c74da27801c8800ba667af01', '27d4f4b2c34ddb92a7ada9d312482cd9b0c4b996a2729868ce90c9281a68597b', 'd7019b0fcb429cbe65af56a85aca257f962241334259deda75c29069d472da47', '58bcd7af7b28b47e14299cc194317b83b78f6dc1738d3708f98dbf03ea5d6d98', 'def19e43c5c899fe1aa7dc279c572cfa7f9c43620737db4f30c97c11ce81ed52', 'eed957878d81203f141a92e3fd954ebb3ec9c9b8c974d7578a75bb46512f0726', 'f13006337926d19f18cd87d6dca3ad40ed5f535f0a52a8e27ed4f2006b717fbf', 'b5baa7ba3992088245f627179276ff1121e5a17f1870438053d1363704a6820f', 'dd8c2fdde45759ad7e9f3fbb0000386c9bfb8be3a332dab66e94c4b3156f6e55', '5c09e8e7ecd4537ee355bed3d032fa990983b4328d83e930105d21ad79ba196b', '8326cb7def5c03d95f667a127547489ab1a8cce30a6692ad6e8cea83229fe464', 'bdd05be113a24a7a2634cb874c15c6f5d68fa9e9f092de66fd8e5b7ce4c0838c', '59f2bff198efdb3d315564fda9e9f7623e2785d16ffd4284dd21686e948d97d3', '9d6f3b2641135e77cf6a93be77a529ec733b4eda244087a6440c14fbbcbd9c5a', 'fa3fa849e24aa4a466b7285a0ac6e55714404112338b410fea0875e4e249dae8', '2e3524c621a2473f96c137770d61362a0add0c9fdd5e267cee882b5b39532b7c', '7ac7cebec755b2b54ba969e4207172fc14ca7cce75b9a44825aa98d22c53bceb', '398502c7fda440c219d87f22260abef67424aa873800aae9437ce8ceea660429', 'da197fd811b6012dec1b8ee9970e5e92c54489481868d9128c5975bfc66fe290', '115f46fafff9485b09773c5248379079ec9abef0745acaacb432cd2d07ee4888', 'b61a5850d1a555616021a9c5e39282645546fbb82a330555c3176d65156b4c4f']\n",
    "pk = ('214ee74af78a08d4c71a824b03be3696', ['555fda709e6c0ab4f209e642138eb44bb0c659b716eb8c3855f1acf33fe12861', '1058e1ea8738332d227d6b5dbc4f5d65fc469c876f3019c4d1b3b03ad9121a5b', '8d14171b3d705025c1d4dc355a3e9a1f51256ec887aab043dad1674419275a50', 'df7302f7d9ce597cd01c2a9ceee727683da34c747b764c57533e7b599626ad46', '93b29dfbf7d942c45c3ba84ed3309d4b28da0a943f742f26b5c529838f29620a', '82f5477f7e8d417545b32496693ac9132640d58b4858f4b56c5a7e62af8abee0', 'ed7363af045863ee7f75ab709249907661cccc2831e86c2966642b473a0122c3', 'a89e01887c7e1e10dcbf7023d210e2b7883bfc8bf26b94babe747494be37e9f2', 'cf988642749f751795e52a8c603cbbf5c059428d3f79cfe21078de5b5eaf4784', 'b26abc0fc02ffd1b3ac775f6e26a1bf1ab2aa6fe9e7c81049f4372bff67caab1', '9fc33492d372ce6cf190b434d9b2bd109ab655acfde2d7450e41dc6dbc336b6e', 'b5afbdb298f5d31d0996fc9fc70e107023c200d1d85f55228a09076b0255d080', '21707b905bc03ee759a94499481f3be8528987c06010b98cdbef91fec79180fd', '1d192c1f594bdef07c0ecd2383d056757a3b32a2cbf9563ba6b7a22f02edecda', 'f7b205f566248f773de7db39abf9e4407d96811d15b6871d7ebed3c482dcb395', 'ade7ad75a700225c114791dd326bf0845f40a403df39e1aa5ca5e2ef78d71712', 'f65ad1a80c5536604c52386826c796f967723319c6bc4e1dc8def2215fd6c6db', '2af1890b2e7696234c94876f8ef460b50e770d73dd09231601c617bf33bb8197', '234853425893f2237d376d80cf2cbcedb5090f301c70dd864e6dcb00b5724564', '1cc55879da12b53fb4ffc28c4f8b41c7d9e96ad483ca3e79039f1a0ce1dd115f', '2185f6d7edea1d6df3f9aa072010042885f46b7d8566327283ef0794208525ea', 'b15b395fc11f4743146dc771569d613659022d017c8e975be55c94c1294a3237', 'f2bed36f2ce0a3b9d69f4a320f54adbc5e69e8af740874c636370cb1ceede078', '945bd04f6bac761b1ce5862ac3364729ed9774a0f63af2fe4e16845f1c5e04ba', '3fb0a66d4b90766aaa4713ac695cf034248c589b4430450384a2cd19670c0a7a', '3e9d60fb32a0931ae481de3ed6fa09e3e50d4b2cc9ceb3451080593abd42cdb4', '7eb011d49d3f3bb7fdb5f5de48c474d4960a53f9050f7a437878f6ae3aa1219d', 'f0210f2effdec661f48efc2dec482696d25f38f6e3d43746145171410f6a967e', '70029708c92f4b0b17b2488c8ae04f3e884bba56da68f07ec9055e3115d552ab', 'ee5ff02e53d5026ebcc0c0c3760d2084c95cdebd4c6d42190ea83a2ac70a772e', 'f524c2b63bfc2c2f51829eb4f2d667b7c64c54612c5e2ad9c398272edc369234', 'ad6666f4624bc3addb6810dca28bfda9d34bd150630a4f2c6c41a02b0a78c33b', '53728470adb90baca70b467ff6a7fbcc38d2a8355646a307f8df8c6ecc078d97', '59674aef89f6df7a06bc232f9ccd0078293a15ca2c1b6766a0db610c2f2862c3', 'dbb06f7c5652eba29a2fddaf668e79939be5e5d76a097d3b25127e5fa48bb561', '0896f8a370066f63e048ed25901fd64ef7af1096740e397631f293f18e90eb1f', 'c702ef7ba7bd774f33ed5543455ea3c7c977741bf2251a6e016824dd8c648f3f', 'f452084bf7373e45c45dc4e2df7de464aa6229110c1f8929a5a4c3f08e428681', '7aab23b6b7835be53beafe4e65eea918a1ccd40e6f0cf4a3f1601c634346278c', 'ab0e29a42f496555b4105cedb1704211892c52234ce023a78e3b2298a949e9bb'])\n",
    "\n",
    "message = [long_to_bytes(c) for c in message]\n",
    "signature = [bytes.fromhex(c) for c in signature]\n",
    "mask_seed, PK = pk\n",
    "mask_seed = bytes.fromhex(mask_seed)\n",
    "PK = [bytes.fromhex(u) for u in PK]\n",
    "pk = mask_seed, PK"
   ]
  },
  {
   "cell_type": "code",
   "execution_count": 539,
   "id": "def05e0d-c725-42db-a31d-a226b0ee4d64",
   "metadata": {},
   "outputs": [
    {
     "data": {
      "text/plain": [
       "True"
      ]
     },
     "execution_count": 539,
     "metadata": {},
     "output_type": "execute_result"
    }
   ],
   "source": [
    "verif(pk, message, signature)"
   ]
  },
  {
   "cell_type": "code",
   "execution_count": 540,
   "id": "c1e43272-faa8-46c1-8739-320a87715ec2",
   "metadata": {},
   "outputs": [],
   "source": [
    "w = encoding(message)\n",
    "forged_message = [157, 15, 237, 141, 42, 58, 188, 131, 85, 159, 23, 64, 123, 110, 100, 171, 151, 224, 131, 169]\n",
    "forged_message = [long_to_bytes(c) for c in forged_message]\n",
    "w_forged = encoding(forged_message)\n",
    "diff = [w_forged[i]- w[i] for i in range (40)]"
   ]
  },
  {
   "cell_type": "code",
   "execution_count": 541,
   "id": "09400bef-1183-4e9c-87f0-b1c97bbc1b32",
   "metadata": {},
   "outputs": [],
   "source": [
    "def forge_signature(pk, message, signature, diff):\n",
    "    mask_seed, PK = pk\n",
    "    w = encoding(message)\n",
    "    forged_signature = signature.copy()\n",
    "    for i in range (40):\n",
    "        for j in range (w[i]+1,w[i]+1+diff[i]):\n",
    "            forged_signature[i] = H(forged_signature[i], mask_seed, i, j)\n",
    "    return forged_signature"
   ]
  },
  {
   "cell_type": "code",
   "execution_count": 542,
   "id": "4f814fec-9057-4778-b53a-6454ec928ad2",
   "metadata": {},
   "outputs": [
    {
     "data": {
      "text/plain": [
       "True"
      ]
     },
     "execution_count": 542,
     "metadata": {},
     "output_type": "execute_result"
    }
   ],
   "source": [
    "forged_signature = forge_signature(pk, message, signature, diff)\n",
    "verif(pk, forged_message, forged_signature)"
   ]
  },
  {
   "cell_type": "code",
   "execution_count": 568,
   "id": "e3ebaa27-8cea-45b8-b3e9-0f38f9fde306",
   "metadata": {},
   "outputs": [
    {
     "name": "stdout",
     "output_type": "stream",
     "text": [
      "[x] Opening connection to challenges.france-cybersecurity-challenge.fr on port 2153\n",
      "[x] Opening connection to challenges.france-cybersecurity-challenge.fr on port 2153: Trying 54.36.209.75\n",
      "[+] Opening connection to challenges.france-cybersecurity-challenge.fr on port 2153: Done\n"
     ]
    }
   ],
   "source": [
    "from pwn import *\n",
    "HOST, SERVER = \"challenges.france-cybersecurity-challenge.fr\", \"2153\"\n",
    "r = remote (HOST, SERVER)"
   ]
  },
  {
   "cell_type": "code",
   "execution_count": 569,
   "id": "62cd1091-c0ae-4893-a2d9-60c167b6d7a0",
   "metadata": {},
   "outputs": [
    {
     "data": {
      "text/plain": [
       "b\"message = b'WINTERNITZ IS COMING'\\n\""
      ]
     },
     "execution_count": 569,
     "metadata": {},
     "output_type": "execute_result"
    }
   ],
   "source": [
    "r.readline()"
   ]
  },
  {
   "cell_type": "code",
   "execution_count": 570,
   "id": "c588602a-b6b4-4b58-b7d5-fd4f727b8aab",
   "metadata": {},
   "outputs": [],
   "source": [
    "signature = r.readline()\n",
    "exec (signature)\n"
   ]
  },
  {
   "cell_type": "code",
   "execution_count": 571,
   "id": "060d3227-3320-4dad-8ff7-27940cb04e36",
   "metadata": {},
   "outputs": [
    {
     "data": {
      "text/plain": [
       "['fa76cd7edd4cc8261fd35f2426bdeaff4b3e2fa88a4e19b9b2307061765ab56f',\n",
       " '19944d6baca2c0914499d5fc85dd311a7d90a4da9d642958525814d833823120',\n",
       " '585db9700786af7f148038bf75bdb26abb77fa1c605ce752fef7d2c462666eae',\n",
       " '2a8edd0ec3e227ade4ec173537fa913dd8064b696d960205c465f6a074ed646c',\n",
       " '0b3ecf05d763744b445f68fda75e5a2d6828e9f8ced9e1614eafc138a84405da',\n",
       " '1fadf50b0d7f9a5800bfcd2cefc37def2dd0074f2c22ba8869811723d8755691',\n",
       " 'fc510b16520a74ae2b3cba8873015e16f68eaaf792010a0f67f2332a26dee44d',\n",
       " '0de6a6c0ed7f05e93bd44e0f0301e8d60156b41299b26a85875066f3e43c3604',\n",
       " 'c3f3ec2b842390dac69f9ba311de2370749aa1790cbc9850391648f5cadf8219',\n",
       " '4ace5be161306cb4a8c6c819e0c227db0654a152c0f427d9a930965b5ab7db8b',\n",
       " '474eee88ad6a6d784985ca0cada632a9372160ec169f78af9e34d3df556069de',\n",
       " '0ae47d380f70eef4facd92261b80a3f81b4a78ac64ff83c47f95d52a795355c7',\n",
       " 'dbc2922ad26d1757ccdb75fe5a31bd0d69221132a51226c276dfcdc8dc2a39ea',\n",
       " 'c5aa7ab10408e4c5e1d8eddc5eef4292a6586775c6cc8e0bb8c423290ddc02f8',\n",
       " '8e93da1bc15fb4ad419bccf6cf3648652bf752857aa16fe802f11d0ee2af3561',\n",
       " '67ad05c83fecd7de6b6562eee0060139e1a64cbf9de03766bcaf9cb8e0d65f57',\n",
       " '8fca5de2b26b38fb29d8e73193ced780ef1df24e202d64123e8995bb881c492d',\n",
       " 'c7e3ea802609557cbe6a2ba7a76c59bb951d4f949503b85576f342b2358c4359',\n",
       " 'c287b520ad057c288ed67b91d8c131a1b40e0fe30a4a3ed6074688316d3ca23e',\n",
       " '9a5623334a33ffd4701e4d0c7efabc44059869043f8259f4bfafa21f78e83fff',\n",
       " 'ab9890d9b78d1c73b465fa2b9e4c190abb0f284c2bb18e7da53f48fd586258d1',\n",
       " '5a6270c386d467812798c0ee4d31c24c63b2744405019834f38517c7cf4d5007',\n",
       " '561ae70533eeb98cbd1f02ebed8539432fe104a409876a7c7d91d429d8204633',\n",
       " '94deb0608f3751b7113ee09d56fd61267cc4baa62417d95a9cce100c8949c675',\n",
       " '9256ddae57760056baffba65ceef9d508f2702f28fedf83fdb560740ce6bd93d',\n",
       " '21b574b911cea3cdceb04da7f675747eb873ab75b2fae44f504387b0140d5252',\n",
       " 'd8c04b2710d6762f1ac9081a2a74f8d59f7c69e1413b94947b4fdf131f7863bf',\n",
       " '3f38fec0e9b7ac78cc96bcd58cbd70b7115bcddb4d1cb303a596cb94c5314b3b',\n",
       " '5d6774addca98de81035feba698e2bc0b81f5c3500b1f647109ca81b15d2ae47',\n",
       " 'b3307c2c4f7f0acbd9f389e96228d9565f701acad0582a817acf6187f5ce7eb3',\n",
       " '96dec13dad89380678d39e839b1744d55a6bb3f8979c4a65a76761866b2e0b2a',\n",
       " 'e72493873a443a5c126977573117d8cd896979410aeedbb38278606632eaf834',\n",
       " '1b65ddbdcb10999b2cac679f931dbcfc7c71afcd8164004197daef0663f12de0',\n",
       " '71a28e3e676f860c223f69999d0ef56a769b91db336146aebe55dc09e9372e58',\n",
       " 'e36076fba151577c7ab614afd569af8289451c710075a06106c02c72e35cff0b',\n",
       " '03f33dfb44b5a5272b380be7fde06180cf436c5dcc6b8290c7e30557480f537d',\n",
       " '019e291aa1c598096c29e67643e0e0c816f737c7dd557b93a37b06e5857dd6c9',\n",
       " 'aedf5cd7cfa2d3188dcef11903d41f35f10f70dcb54927ee4ced5a34cea7d597',\n",
       " 'c96cfa7ee2a2815b24bd6a2280973c8ad3866867430dbbb869103c6a6af6d9bc',\n",
       " 'aafd426e916d5f40f2c97a755ebceec091cf3b1c68d66e65b34e90ef93d59f7d']"
      ]
     },
     "execution_count": 571,
     "metadata": {},
     "output_type": "execute_result"
    }
   ],
   "source": [
    "signature"
   ]
  },
  {
   "cell_type": "code",
   "execution_count": 567,
   "id": "a0ec37a5-0f4b-43ae-93a1-fb0d0f4d88c5",
   "metadata": {},
   "outputs": [
    {
     "data": {
      "text/plain": [
       "['3aeee3c83440e2e4a62f4caf768d6f81184273e511ec8537639ed752257ea56a',\n",
       " 'c4c87710b9d8ac5493cd341605aa893d4f9a782a3852d305d07961579ceacf4b',\n",
       " '51549ffa72dcdcc816b2f7264d2255ab6dd8298f4b9a122b6e619bc131d5cf9c',\n",
       " 'ae6994e3119c8afcc7ef5b3706e01783b4b98f21cd3bd628956d1665ad00cf42',\n",
       " 'ab5fa6647974f296dda7ead282b4c72118fa72b0e1ab6bde8bb689e65edd377e',\n",
       " '5e5c33d37ae31deef82883e0b366c4f02642d1e1b6f434a0d4d7da726b41dcb6',\n",
       " '3c195fa095761c20e0b0d9c7ce69daab33928d31ebd523a313b17c3fe5c43c6c',\n",
       " 'f74079088dfdc95810854f83c1f3b48f4ba8b3a5bd51b4af8bd06ebb157cceb6',\n",
       " 'ace7aa7f1f0a7bdec0f00c68067aaf870a121f1b05ed5fcddac8d6c968762295',\n",
       " 'e0c16d5e8d1d1d37e7e5d24bcd0a457c34b86d70832a4879bdb762417ad94213',\n",
       " '3658244bbccb6dfd6095922f0788a00c81a2e36cfa7267a83e0a01768df4f0db',\n",
       " '3f46735aaa6abe9e57f03e7f24317187defc883e35e9a6d5db396bc14061bfc3',\n",
       " '69848595f479791f6ecb00150ee8b7a1cbff807765ebb2308e7e6c3541b1b736',\n",
       " '5fffc449b817786c307fbe793505fc1a2a7aa5417b5603d6af61d6db544e20dc',\n",
       " '84ce4b1d9aab3e480b4d34a720bb3bbe1d643139b8aa27bcddf00146fc75a9d5',\n",
       " 'b7cc175e610320268abc5b39e8ab894b13ab5927c44b93b9dc3e7a7d0b9274f2',\n",
       " '4209b611bc1a7b8f639bdc3df1125510007ebca262774c0ef1dc07fd423ecedf',\n",
       " 'e5bce5a041ca04850f09522aa4c027cd21e312e696ddd422e86be967b712b86d',\n",
       " '1befc99962f7b527b7800d7e04d23b2ef8ae5fdc0b84b29211d8b113e37cb44e',\n",
       " '17f8ff7185c9b73ce3723b998819c068eaebd314b1c30e8b8b9bb992000d12f9',\n",
       " '6edcb2378363517b7e299b7ae3041606cd5aed0aa84a91aaac879c9d1f51a989',\n",
       " 'e7fe69653320cee4e55c6f19c3fbd044fdacd5a8f497e3897b5ffbe545efbc17',\n",
       " 'f4508655e92b4699738671461ba24c88efa109e9dde33fd177e0c345f099e4c3',\n",
       " '5f5f8442284f0c9adaf9a68922381cf1287e14fbceccf0ebea150830f4d8ba52',\n",
       " '317dfe67fd5f1f675ddf9038f69f2f63bcc28573909c35e26f40782b836adf16',\n",
       " 'e7a3ef0f0de1fe18155199dd41b8033e984e0426d0f3fca82002d6499627f640',\n",
       " '5c7162c7c72acdf08d5999c588bf76924124c3821f0bde37813ea71a005e2954',\n",
       " '40d09311b3bbbaf291c285fc01ff57dcc09c58be152b081d2caccebb8ce63f60',\n",
       " '32876415523adfe232d2e8039609397818013d66fbb28b9bfa9f51e0497873f3',\n",
       " '1d6d1e54cb7d62840608025be996735266fbb3fbdeb81ae0eb1d59362d433715',\n",
       " '07cde220f5fe4888aabc745d84f7da0c47b3dcf8658917f70d6bf12a072e3d2d',\n",
       " '95fbbe2a93295839f1cfddad3d25f914e3847ae85a2c41f08ff8d226fe8504ae',\n",
       " 'c74e716d2c20adbd647e1f14e63eaa3d56e06fd34a11a14f62989e687d2008d0',\n",
       " 'af895d4bd1e2647d9e3ceb37715638204091a3bf452b8376b1b95cc0601fdaa6',\n",
       " '9e2eaa775ca38138552b7029bd1ed9a943f7cf12424151058b83800971e5329a',\n",
       " 'f113789971551d88666aa485e6441e0c9dd64cf10f9ce0c153f390dcfe12445f',\n",
       " '89e2567f8b004a437495e0fb468c0b66de9653c4e7061f9a67ac3740b7ac1f88',\n",
       " '945dba8c1c318a0b0c8bc512a8b4dce133a52a51742cfec94edef5494783c4bb',\n",
       " '040098774945ea7c79e2ca35c4860411fd07e64a83586945362f92e236006fe1',\n",
       " 'f5e4c07f18669d392613f30f677157851be4559e4e7b80678d8d81b59315a787']"
      ]
     },
     "execution_count": 567,
     "metadata": {},
     "output_type": "execute_result"
    }
   ],
   "source": [
    "signature\n"
   ]
  },
  {
   "cell_type": "code",
   "execution_count": 563,
   "id": "10352394-ac18-414e-aef6-53762a2f29bc",
   "metadata": {},
   "outputs": [
    {
     "name": "stdout",
     "output_type": "stream",
     "text": [
      "[*] Closed connection to challenges.france-cybersecurity-challenge.fr port 2153\n"
     ]
    }
   ],
   "source": [
    "r.close()"
   ]
  },
  {
   "cell_type": "code",
   "execution_count": 548,
   "id": "fd7e8804-6fde-428a-9bf7-e3c0031e9304",
   "metadata": {},
   "outputs": [
    {
     "data": {
      "text/plain": [
       "b\"pk = ('cb730daac82b288b0ca35e3ae6f2b78b', ['02631f77190a666d425bced70504401651222ec7584ca470c773c9a1403f0cc4', '7fb7bdb0a599d36c2c1d3b07e9c38e915bc11a6929969bdc2505e88638cc45ce', 'c461ee69031833b04950e48f64702e367bf680ed272ff930d5ad9c07c1109816', 'ec27e1b0a669e8c1786d3b4cb6e2ec467ec0389d0357847de688f4d7e47a1944', '5ac7a78f3ec93e98e951e7fa8926deda730cf5cd2306829748d130ff6d4791a0', '3d11cfca263dc3c25fa0456483364111cd1b4fa1d269687fae3aae53bcf85fd9', 'c8f1ee94a8fbf624f45027650fb47e2b6789b62af5d75c631cf48e2c66503c3f', 'e48aa81e4708668516cd07e4cb8572c36303fee37bf79ab0e502ae79bb16c1e0', 'bc31cd886193dde8de4b552da7035af1a93e4d22dc1826250aaa7e53b64f439c', '52ea5f211d57d0affe37ae9818fb748d2e29db533c1174a8554f9ac6c6b6cecb', '24f9788c7f6b0f0aa7eb01b70fb62ebdd8e5032bd44973507ea8ef876c4ce348', '5d71ad9c329be97df292af9825e370fb69b0c60bc19c88bb58612b9f84271036', '8a5c136c698fbce6b202a09782654968148beea8db0473ffa7b88c2325dc594a', '45afa28adb8536b038ac2064ada20a3b04ae369cdb46fee35da1559ee3794118', '65121eee668141a9b6af0a8fae4f10fa6d939e16bae4f476276ef1baa0604b42', '31a85009c516dbd8cdb0df17f5101b4dea7d3bb09e82986e93b8dba968fcc527', '4ad46190f9445694d9642e2c9a1cb1f5d535505f9426e0076952e65a96d58449', 'd948affb9c44d7e6c356062b1d4bdbbd82b86ef4f45b6a783770473fe77c808f', 'b929f60a2bd48b5f4f614854bb6b3913a179b7a555dbce2b01216edd24a4933a', '3c1b1c6c97d5b810bcfeaf1fce3a8154fc88cb16b2572f75910a9750a203d554', 'bf31c50af1a7338fb95b9dea75ccce53e090aca6358d6058e4837a0b5e1c36cf', '448b67af52b41010e5dadd687ce48b4712f27c841df0d51a9b84a048b77e23db', '9344e7bc56856be1f3cc02f36caec3e6e104c9f1e2eb06f73e419224476a25f8', 'a25a12d50099a5f739204a6f9720bb19a8e68dc9b726e3e5ea6085318978ffde', '65704584d7ec2086ee9a7e41713f524df2e332d7fd273727ffa4a016d8836fc4', '762e2685baccc2a9530e975b9337c0941406a7775e8cdba8d2710e2bd5b71879', 'f8f536f6b32f0af6ccd47774292c22e634f40ec9019f9fea4d8ac4ffcbba2507', '4b256dce805a7faedea95fe60acef92c4f8186eeb9ce551bfc23461e416493fa', 'f278313b64ac117eba4b3b04ee93713bc09631cc36fc8b4a5ad965b8cf360426', 'dee94bcc1a38f251cdc924531a924b1c526099f42d49d28f0695ab1da67ff296', 'fbef35d2e1b42a1d86215c0a04d1dfaf8aa9e569af506a88ea8b98d8dbb99ca7', '940e502b7b0230ec39f436e52a917ddc258bf94d0db7d9552bd6a7884079f776', '07f0230d60a1cb54348147ef0e1d7a536d6799801d195e1ba3d60f33003252ca', '14c9195348b9c084fcedbad77d5d520d71b430a30f258513db0c120cbcadfdba', '623874d34f2c59d7c929db26ead2bd432dddd740d9adcbac4a9e8ad761ee68c1', '9ca0fdee69f2ba6c76295715e53e281499aa0588b8e0e8fbdd329816b6a346ff', 'beb524bd96da6aa394390eabb698aac389d6207c0818a5d11cdf13ff40f769d5', '1120ea069b39c83f3634355890aea757c8bbdb800556cd005475ebe86198f123', '8a3da4e5e402e8658867eb45f723e22eeb68a250a1c82e37852704774a925421', 'c131c7f8445e29c5be6697e57082c6b7f18d7c27938ccbc151d464c70dc97e03'])\\n\""
      ]
     },
     "execution_count": 548,
     "metadata": {},
     "output_type": "execute_result"
    }
   ],
   "source": [
    "r.readline()"
   ]
  },
  {
   "cell_type": "code",
   "execution_count": 549,
   "id": "51dbd3a2-529a-4f57-b08a-263ed9c1c510",
   "metadata": {},
   "outputs": [
    {
     "data": {
      "text/plain": [
       "b'Input your message (hex format):\\n'"
      ]
     },
     "execution_count": 549,
     "metadata": {},
     "output_type": "execute_result"
    }
   ],
   "source": [
    "r.readline()"
   ]
  },
  {
   "cell_type": "code",
   "execution_count": null,
   "id": "46807367-74a0-4820-ae79-f3778c96405f",
   "metadata": {},
   "outputs": [],
   "source": []
  },
  {
   "cell_type": "code",
   "execution_count": null,
   "id": "a1a20e2e-335f-4437-a138-59d16347f7db",
   "metadata": {},
   "outputs": [],
   "source": []
  },
  {
   "cell_type": "code",
   "execution_count": null,
   "id": "6b6c2da1-82f5-4edd-bde8-56368b1a36a3",
   "metadata": {},
   "outputs": [],
   "source": []
  },
  {
   "cell_type": "code",
   "execution_count": null,
   "id": "b9b30f43-7cb8-485d-98ba-75fdb4e7142f",
   "metadata": {},
   "outputs": [],
   "source": []
  },
  {
   "cell_type": "code",
   "execution_count": null,
   "id": "13180555-ecf0-4f3a-8519-f503630c44fb",
   "metadata": {},
   "outputs": [],
   "source": []
  },
  {
   "cell_type": "code",
   "execution_count": null,
   "id": "43878620-d370-47d4-8a9f-f82a55b7762f",
   "metadata": {},
   "outputs": [],
   "source": []
  },
  {
   "cell_type": "code",
   "execution_count": null,
   "id": "9da1784a-d578-4da7-a076-39f51adc5575",
   "metadata": {},
   "outputs": [],
   "source": []
  },
  {
   "cell_type": "code",
   "execution_count": 383,
   "id": "f2d3275c-fea1-4df6-96d1-f607656e53a6",
   "metadata": {},
   "outputs": [],
   "source": [
    "Zp = FiniteField (257)\n",
    "M = Matrix(Zp, 40, 20)\n",
    "for i in range (40):\n",
    "    for j in range (20):\n",
    "        M[i, j] = pow(Support[i],(j  + 1), W)\n",
    "\n",
    "v = vector([ Zp(m) for m in message])\n",
    "w = M * v"
   ]
  },
  {
   "cell_type": "code",
   "execution_count": 256,
   "id": "7a3f5802-4dfa-479a-a358-65c5c8a15c75",
   "metadata": {},
   "outputs": [],
   "source": [
    "message = b\"WINTERNITZ IS COMING\"\n",
    "l = encoding(message)"
   ]
  },
  {
   "cell_type": "code",
   "execution_count": 305,
   "id": "1247b103-390b-4a2f-b4d1-457def9d06cc",
   "metadata": {},
   "outputs": [],
   "source": [
    "down = [x for x in l if x<184]\n",
    "up = [x for x in l if x>=184]"
   ]
  },
  {
   "cell_type": "code",
   "execution_count": 309,
   "id": "06d2f507-34b9-4c29-b259-5ba456a3ccf7",
   "metadata": {},
   "outputs": [
    {
     "data": {
      "text/plain": [
       "156.22495406768076"
      ]
     },
     "execution_count": 309,
     "metadata": {},
     "output_type": "execute_result"
    }
   ],
   "source": [
    "float(log(prod(up), 2))"
   ]
  },
  {
   "cell_type": "code",
   "execution_count": 311,
   "id": "8d8cd21c-3043-4d05-9021-f86ec4ecab04",
   "metadata": {},
   "outputs": [
    {
     "data": {
      "text/plain": [
       "-17.343449140341082"
      ]
     },
     "execution_count": 311,
     "metadata": {},
     "output_type": "execute_result"
    }
   ],
   "source": [
    "float(log(prod([1 - d/257 for d in down]), 2))"
   ]
  },
  {
   "cell_type": "code",
   "execution_count": 342,
   "id": "632b7c16-dccc-46f5-8449-b2dde7706ffd",
   "metadata": {},
   "outputs": [],
   "source": [
    "I = []\n",
    "J = []\n",
    "for i in range (40):\n",
    "    if l[i] >= 184:\n",
    "        I.append(i)\n",
    "    else:\n",
    "        J.append(i)"
   ]
  },
  {
   "cell_type": "code",
   "execution_count": 343,
   "id": "f3b55010-3464-465e-b71a-efb1378552b6",
   "metadata": {},
   "outputs": [],
   "source": [
    "P = M[I].inverse()"
   ]
  },
  {
   "cell_type": "code",
   "execution_count": 357,
   "id": "3e7c22ce-8c32-462f-a711-4754c376c36f",
   "metadata": {},
   "outputs": [],
   "source": [
    "w = M * v"
   ]
  },
  {
   "cell_type": "code",
   "execution_count": 360,
   "id": "e8afc788-91d3-410b-bf39-b077dff43468",
   "metadata": {},
   "outputs": [],
   "source": [
    "w_I = vector([w[i] for i in I])\n",
    "w_J = vector([w[i] for i in J])"
   ]
  },
  {
   "cell_type": "code",
   "execution_count": 453,
   "id": "4fc5390f-11bd-4262-974c-1f7188203cae",
   "metadata": {},
   "outputs": [
    {
     "data": {
      "text/plain": [
       "(157, 15, 237, 141, 42, 58, 188, 131, 85, 159, 23, 64, 123, 110, 100, 171, 151, 224, 131, 169)"
      ]
     },
     "execution_count": 453,
     "metadata": {},
     "output_type": "execute_result"
    }
   ],
   "source": [
    "V = vector((212, 240, 243, 208, 213, 245, 189, 212, 243, 216, 244, 254, 207, 239, 244, 236, 231, 241, 211, 247))\n",
    "P * V"
   ]
  },
  {
   "cell_type": "code",
   "execution_count": 399,
   "id": "1e5d26d0-6151-4367-aef5-f0ebb2a01edb",
   "metadata": {},
   "outputs": [
    {
     "name": "stdout",
     "output_type": "stream",
     "text": [
      "(212, 240, 243, 208, 213, 245, 189, 212, 243, 216, 244, 254, 207, 239, 244, 236, 231, 241, 211, 247)\n",
      "(214, 242, 244, 205, 209, 241, 193, 211, 248, 212, 244, 256, 212, 234, 243, 241, 226, 235, 213, 244)\n"
     ]
    },
    {
     "ename": "KeyboardInterrupt",
     "evalue": "",
     "output_type": "error",
     "traceback": [
      "\u001b[0;31m---------------------------------------------------------------------------\u001b[0m",
      "\u001b[0;31mKeyboardInterrupt\u001b[0m                         Traceback (most recent call last)",
      "Cell \u001b[0;32mIn [399], line 2\u001b[0m\n\u001b[1;32m      1\u001b[0m \u001b[38;5;28;01mwhile\u001b[39;00m \u001b[38;5;28;01mTrue\u001b[39;00m:\n\u001b[0;32m----> 2\u001b[0m     v \u001b[38;5;241m=\u001b[39m vector(\u001b[43m[\u001b[49m\u001b[43mrandint\u001b[49m\u001b[43m(\u001b[49m\u001b[43mInteger\u001b[49m\u001b[43m(\u001b[49m\u001b[38;5;241;43m0\u001b[39;49m\u001b[43m)\u001b[49m\u001b[43m,\u001b[49m\u001b[43m \u001b[49m\u001b[43mInteger\u001b[49m\u001b[43m(\u001b[49m\u001b[38;5;241;43m6\u001b[39;49m\u001b[43m)\u001b[49m\u001b[43m)\u001b[49m\u001b[43m \u001b[49m\u001b[38;5;28;43;01mfor\u001b[39;49;00m\u001b[43m \u001b[49m\u001b[43m_\u001b[49m\u001b[43m \u001b[49m\u001b[38;5;129;43;01min\u001b[39;49;00m\u001b[43m \u001b[49m\u001b[38;5;28;43mrange\u001b[39;49m\u001b[43m \u001b[49m\u001b[43m(\u001b[49m\u001b[43mInteger\u001b[49m\u001b[43m(\u001b[49m\u001b[38;5;241;43m20\u001b[39;49m\u001b[43m)\u001b[49m\u001b[43m)\u001b[49m\u001b[43m]\u001b[49m)\n\u001b[1;32m      3\u001b[0m     c \u001b[38;5;241m=\u001b[39m M \u001b[38;5;241m*\u001b[39m (P \u001b[38;5;241m*\u001b[39m (w_I \u001b[38;5;241m+\u001b[39m v))\n\u001b[1;32m      4\u001b[0m     found \u001b[38;5;241m=\u001b[39m \u001b[38;5;28;01mTrue\u001b[39;00m\n",
      "Cell \u001b[0;32mIn [399], line 2\u001b[0m, in \u001b[0;36m<listcomp>\u001b[0;34m(.0)\u001b[0m\n\u001b[1;32m      1\u001b[0m \u001b[38;5;28;01mwhile\u001b[39;00m \u001b[38;5;28;01mTrue\u001b[39;00m:\n\u001b[0;32m----> 2\u001b[0m     v \u001b[38;5;241m=\u001b[39m vector([\u001b[43mrandint\u001b[49m\u001b[43m(\u001b[49m\u001b[43mInteger\u001b[49m\u001b[43m(\u001b[49m\u001b[38;5;241;43m0\u001b[39;49m\u001b[43m)\u001b[49m\u001b[43m,\u001b[49m\u001b[43m \u001b[49m\u001b[43mInteger\u001b[49m\u001b[43m(\u001b[49m\u001b[38;5;241;43m6\u001b[39;49m\u001b[43m)\u001b[49m\u001b[43m)\u001b[49m \u001b[38;5;28;01mfor\u001b[39;00m _ \u001b[38;5;129;01min\u001b[39;00m \u001b[38;5;28mrange\u001b[39m (Integer(\u001b[38;5;241m20\u001b[39m))])\n\u001b[1;32m      3\u001b[0m     c \u001b[38;5;241m=\u001b[39m M \u001b[38;5;241m*\u001b[39m (P \u001b[38;5;241m*\u001b[39m (w_I \u001b[38;5;241m+\u001b[39m v))\n\u001b[1;32m      4\u001b[0m     found \u001b[38;5;241m=\u001b[39m \u001b[38;5;28;01mTrue\u001b[39;00m\n",
      "File \u001b[0;32m/private/var/tmp/sage-10.2-current/local/var/lib/sage/venv-python3.11.1/lib/python3.11/site-packages/sage/misc/prandom.py:137\u001b[0m, in \u001b[0;36mrandint\u001b[0;34m(a, b)\u001b[0m\n\u001b[1;32m    124\u001b[0m \u001b[38;5;28;01mdef\u001b[39;00m \u001b[38;5;21mrandint\u001b[39m(a, b):\n\u001b[1;32m    125\u001b[0m     \u001b[38;5;124mr\u001b[39m\u001b[38;5;124;03m\"\"\"\u001b[39;00m\n\u001b[1;32m    126\u001b[0m \u001b[38;5;124;03m    Return random integer in range [a, b], including both end points.\u001b[39;00m\n\u001b[1;32m    127\u001b[0m \n\u001b[0;32m   (...)\u001b[0m\n\u001b[1;32m    135\u001b[0m \u001b[38;5;124;03m        True\u001b[39;00m\n\u001b[1;32m    136\u001b[0m \u001b[38;5;124;03m    \"\"\"\u001b[39;00m\n\u001b[0;32m--> 137\u001b[0m     \u001b[38;5;28;01mreturn\u001b[39;00m \u001b[43m_pyrand\u001b[49m\u001b[43m(\u001b[49m\u001b[43m)\u001b[49m\u001b[38;5;241;43m.\u001b[39;49m\u001b[43mrandint\u001b[49m\u001b[43m(\u001b[49m\u001b[43ma\u001b[49m\u001b[43m,\u001b[49m\u001b[43m \u001b[49m\u001b[43mb\u001b[49m\u001b[43m)\u001b[49m\n",
      "File \u001b[0;32m/private/var/tmp/sage-10.2-current/local/var/lib/sage/venv-python3.11.1/lib/python3.11/random.py:362\u001b[0m, in \u001b[0;36mRandom.randint\u001b[0;34m(self, a, b)\u001b[0m\n\u001b[1;32m    358\u001b[0m \u001b[38;5;28;01mdef\u001b[39;00m \u001b[38;5;21mrandint\u001b[39m(\u001b[38;5;28mself\u001b[39m, a, b):\n\u001b[1;32m    359\u001b[0m     \u001b[38;5;124;03m\"\"\"Return random integer in range [a, b], including both end points.\u001b[39;00m\n\u001b[1;32m    360\u001b[0m \u001b[38;5;124;03m    \"\"\"\u001b[39;00m\n\u001b[0;32m--> 362\u001b[0m     \u001b[38;5;28;01mreturn\u001b[39;00m \u001b[38;5;28;43mself\u001b[39;49m\u001b[38;5;241;43m.\u001b[39;49m\u001b[43mrandrange\u001b[49m\u001b[43m(\u001b[49m\u001b[43ma\u001b[49m\u001b[43m,\u001b[49m\u001b[43m \u001b[49m\u001b[43mb\u001b[49m\u001b[38;5;241;43m+\u001b[39;49m\u001b[38;5;241;43m1\u001b[39;49m\u001b[43m)\u001b[49m\n",
      "File \u001b[0;32m/private/var/tmp/sage-10.2-current/local/var/lib/sage/venv-python3.11.1/lib/python3.11/random.py:284\u001b[0m, in \u001b[0;36mRandom.randrange\u001b[0;34m(self, start, stop, step)\u001b[0m\n\u001b[1;32m    279\u001b[0m     \u001b[38;5;28;01mreturn\u001b[39;00m \u001b[38;5;28mself\u001b[39m\u001b[38;5;241m.\u001b[39mgetrandbits(n \u001b[38;5;241m*\u001b[39m \u001b[38;5;241m8\u001b[39m)\u001b[38;5;241m.\u001b[39mto_bytes(n, \u001b[38;5;124m'\u001b[39m\u001b[38;5;124mlittle\u001b[39m\u001b[38;5;124m'\u001b[39m)\n\u001b[1;32m    282\u001b[0m \u001b[38;5;66;03m## -------------------- integer methods  -------------------\u001b[39;00m\n\u001b[0;32m--> 284\u001b[0m \u001b[38;5;28;01mdef\u001b[39;00m \u001b[38;5;21mrandrange\u001b[39m(\u001b[38;5;28mself\u001b[39m, start, stop\u001b[38;5;241m=\u001b[39m\u001b[38;5;28;01mNone\u001b[39;00m, step\u001b[38;5;241m=\u001b[39m_ONE):\n\u001b[1;32m    285\u001b[0m     \u001b[38;5;124;03m\"\"\"Choose a random item from range(stop) or range(start, stop[, step]).\u001b[39;00m\n\u001b[1;32m    286\u001b[0m \n\u001b[1;32m    287\u001b[0m \u001b[38;5;124;03m    Roughly equivalent to ``choice(range(start, stop, step))`` but\u001b[39;00m\n\u001b[1;32m    288\u001b[0m \u001b[38;5;124;03m    supports arbitrarily large ranges and is optimized for common cases.\u001b[39;00m\n\u001b[1;32m    289\u001b[0m \n\u001b[1;32m    290\u001b[0m \u001b[38;5;124;03m    \"\"\"\u001b[39;00m\n\u001b[1;32m    292\u001b[0m     \u001b[38;5;66;03m# This code is a bit messy to make it fast for the\u001b[39;00m\n\u001b[1;32m    293\u001b[0m     \u001b[38;5;66;03m# common case while still doing adequate error checking.\u001b[39;00m\n",
      "File \u001b[0;32msrc/cysignals/signals.pyx:341\u001b[0m, in \u001b[0;36mcysignals.signals.python_check_interrupt\u001b[0;34m()\u001b[0m\n",
      "\u001b[0;31mKeyboardInterrupt\u001b[0m: "
     ]
    }
   ],
   "source": [
    "while True:\n",
    "    v = vector([randint(0, 6) for _ in range (20)])\n",
    "    c = M * (P * (w_I + v))\n",
    "    found = True\n",
    "    for j in J:\n",
    "        if c[j] < w[j]:\n",
    "            found = False\n",
    "            break\n",
    "    if found:\n",
    "        print(w_I + v)\n",
    "        "
   ]
  },
  {
   "cell_type": "code",
   "execution_count": 402,
   "id": "0704ced4-ae6f-4952-9f21-77629b4cff0f",
   "metadata": {},
   "outputs": [
    {
     "data": {
      "text/plain": [
       "(131, 67, 212, 124, 240, 243, 218, 195, 245, 208, 201, 155, 213, 252, 245, 189, 212, 243, 99, 216, 244, 205, 255, 254, 207, 239, 247, 244, 249, 236, 218, 150, 231, 140, 153, 241, 211, 86, 247, 102)"
      ]
     },
     "execution_count": 402,
     "metadata": {},
     "output_type": "execute_result"
    }
   ],
   "source": [
    "c = vector((212, 240, 243, 208, 213, 245, 189, 212, 243, 216, 244, 254, 207, 239, 244, 236, 231, 241, 211, 247))\n",
    "M * P * c"
   ]
  },
  {
   "cell_type": "code",
   "execution_count": 403,
   "id": "b0ee7a27-12ba-48ae-b0cc-40229d7ad870",
   "metadata": {},
   "outputs": [
    {
     "data": {
      "text/plain": [
       "(131, 11, 208, 118, 239, 239, 179, 68, 14, 202, 176, 127, 207, 180, 240, 189, 209, 243, 37, 212, 241, 50, 177, 250, 207, 234, 91, 239, 125, 235, 165, 139, 226, 65, 148, 235, 208, 75, 243, 27)"
      ]
     },
     "execution_count": 403,
     "metadata": {},
     "output_type": "execute_result"
    }
   ],
   "source": [
    "w"
   ]
  },
  {
   "cell_type": "code",
   "execution_count": 379,
   "id": "380bfdb5-742b-47ac-bcc4-ccb9c7421393",
   "metadata": {},
   "outputs": [
    {
     "data": {
      "text/plain": [
       "(242, 113, 213, 186, 241, 242, 136, 157, 35, 204, 233, 205, 213, 233, 240, 189, 210, 249, 75, 215, 243, 23, 11, 253, 212, 238, 13, 239, 189, 236, 194, 29, 229, 116, 105, 240, 214, 157, 247, 201)"
      ]
     },
     "execution_count": 379,
     "metadata": {},
     "output_type": "execute_result"
    }
   ],
   "source": [
    "M * x"
   ]
  },
  {
   "cell_type": "code",
   "execution_count": 380,
   "id": "21d63d76-02fc-4f8d-88e1-20a284d3d620",
   "metadata": {},
   "outputs": [
    {
     "data": {
      "text/plain": [
       "(66, 47, 107, 225, 75, 9, 118, 249, 124, 238, 133, 67, 122, 187, 114, 185, 41, 111, 211, 45, 41, 204, 78, 118, 237, 9, 53, 249, 167, 20, 252, 211, 242, 48, 188, 79, 129, 168, 30, 103)"
      ]
     },
     "execution_count": 380,
     "metadata": {},
     "output_type": "execute_result"
    }
   ],
   "source": [
    "M * v"
   ]
  },
  {
   "cell_type": "code",
   "execution_count": 385,
   "id": "4a792a6b-47e8-4026-8897-765174b3d9ca",
   "metadata": {},
   "outputs": [
    {
     "data": {
      "text/plain": [
       "(131, 11, 208, 118, 239, 239, 179, 68, 14, 202, 176, 127, 207, 180, 240, 189, 209, 243, 37, 212, 241, 50, 177, 250, 207, 234, 91, 239, 125, 235, 165, 139, 226, 65, 148, 235, 208, 75, 243, 27)"
      ]
     },
     "execution_count": 385,
     "metadata": {},
     "output_type": "execute_result"
    }
   ],
   "source": [
    "w"
   ]
  },
  {
   "cell_type": "code",
   "execution_count": 387,
   "id": "d042897e-7900-4894-8ad2-69e9c0e04cd8",
   "metadata": {},
   "outputs": [
    {
     "name": "stdout",
     "output_type": "stream",
     "text": [
      "131 242\n",
      "11 113\n",
      "208 213\n",
      "118 186\n",
      "239 241\n",
      "239 242\n",
      "179 136\n",
      "68 157\n",
      "14 35\n",
      "202 204\n",
      "176 233\n",
      "127 205\n",
      "207 213\n",
      "180 233\n",
      "240 240\n",
      "189 189\n",
      "209 210\n",
      "243 249\n",
      "37 75\n",
      "212 215\n",
      "241 243\n",
      "50 23\n",
      "177 11\n",
      "250 253\n",
      "207 212\n",
      "234 238\n",
      "91 13\n",
      "239 239\n",
      "125 189\n",
      "235 236\n",
      "165 194\n",
      "139 29\n",
      "226 229\n",
      "65 116\n",
      "148 105\n",
      "235 240\n",
      "208 214\n",
      "75 157\n",
      "243 247\n",
      "27 201\n"
     ]
    }
   ],
   "source": [
    "for i in range (40):\n",
    "    print(w[i], (M*x)[i])"
   ]
  },
  {
   "cell_type": "code",
   "execution_count": null,
   "id": "6b04c7be-d696-4127-ab4b-769e97513211",
   "metadata": {},
   "outputs": [],
   "source": []
  }
 ],
 "metadata": {
  "kernelspec": {
   "display_name": "SageMath 10.2",
   "language": "sage",
   "name": "sagemath"
  },
  "language_info": {
   "codemirror_mode": {
    "name": "ipython",
    "version": 3
   },
   "file_extension": ".py",
   "mimetype": "text/x-python",
   "name": "python",
   "nbconvert_exporter": "python",
   "pygments_lexer": "ipython3",
   "version": "3.11.1"
  }
 },
 "nbformat": 4,
 "nbformat_minor": 5
}
