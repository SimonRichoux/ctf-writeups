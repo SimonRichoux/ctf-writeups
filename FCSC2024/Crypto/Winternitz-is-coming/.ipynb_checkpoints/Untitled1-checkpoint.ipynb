{
 "cells": [
  {
   "cell_type": "code",
   "execution_count": 2,
   "id": "1369f6bc-6c2b-4ac4-8978-35ce2adbbc53",
   "metadata": {},
   "outputs": [],
   "source": [
    "from hashlib import sha256\n",
    "\n",
    "W = 257\n",
    "msglen = 20\n",
    "siglen = 40\n",
    "n1 = siglen // 256 + 1\n",
    "n2 = W // 256 + 1\n",
    "\n",
    "Support = [\n",
    "              8,  17,  26,  32,  52,  53,  57,  58,\n",
    "             59,  63,  64,  66,  67,  71,  73,  76,\n",
    "             79,  81, 111, 115, 132, 135, 141, 144,\n",
    "            151, 157, 170, 176, 191, 192, 200, 201,\n",
    "            202, 207, 216, 224, 228, 237, 241, 252,\n",
    "        ]\n",
    "\n",
    "def H(s, m, i, j):\n",
    "    def _byte_xor(b1, b2):\n",
    "        assert len(b1) == len(b2), \"Error: byte strings of different length.\"\n",
    "        return bytes([x ^^ y for x, y in zip(b1, b2)])\n",
    "    return sha256(\n",
    "        _byte_xor(\n",
    "            s,\n",
    "            sha256(\n",
    "                m + i.to_bytes(n1) + j.to_bytes(n2)\n",
    "            ).digest()\n",
    "        )\n",
    "    ).digest()\n",
    "\n",
    "def encoding(msg):\n",
    "    w = [0] * len(Support)\n",
    "    for i in range(len(Support)):\n",
    "        for j in range(len(msg)):\n",
    "            # Constant coefficient is zero\n",
    "            w[i] += msg[j][0] * pow(Support[i],(j  + 1), W)\n",
    "        w[i] %= W\n",
    "    return w\n",
    "\n",
    "def verif(pk, message, signature):\n",
    "    mask_seed, PK = pk\n",
    "\n",
    "    w = encoding(message)\n",
    "    signature_check = signature.copy()\n",
    "    for i in range(40):\n",
    "        for j in range(w[i] + 1, 257):\n",
    "            signature_check[i] = H(signature_check[i], mask_seed, i, j)\n",
    "    return all(s == pk for s, pk in zip(signature_check, PK))"
   ]
  },
  {
   "cell_type": "code",
   "execution_count": 3,
   "id": "f1d9eaa0-82c0-4180-9342-15c70de548bd",
   "metadata": {},
   "outputs": [],
   "source": [
    "from Crypto.Util.number import long_to_bytes\n",
    "\n",
    "message = b'WINTERNITZ IS COMING'\n",
    "message = [long_to_bytes(c) for c in message]\n",
    "w = encoding(message)\n",
    "forged_message = [157, 15, 237, 141, 42, 58, 188, 131, 85, 159, 23, 64, 123, 110, 100, 171, 151, 224, 131, 169]\n",
    "forged_message = [long_to_bytes(c) for c in forged_message]\n",
    "w_forged = encoding(forged_message)\n",
    "diff = [w_forged[i]- w[i] for i in range (40)]"
   ]
  },
  {
   "cell_type": "code",
   "execution_count": 29,
   "id": "2c87bd26-58ee-40fe-bf6b-28dd10003a9a",
   "metadata": {},
   "outputs": [],
   "source": [
    "import numpy\n"
   ]
  },
  {
   "cell_type": "code",
   "execution_count": 110,
   "id": "5cc90ba7-7a26-4c66-9645-24c7149e2eb9",
   "metadata": {},
   "outputs": [
    {
     "name": "stdout",
     "output_type": "stream",
     "text": [
      "message found!\n",
      "(246, 78, 5, 99, 163, 176, 89, 92, 217, 76, 236, 106, 221, 55, 233, 253, 183, 30, 0, 140)\n"
     ]
    }
   ],
   "source": [
    "from numpy import argsort\n",
    "import logging\n",
    "\n",
    "W = 257\n",
    "Support = [\n",
    "              8,  17,  26,  32,  52,  53,  57,  58,\n",
    "             59,  63,  64,  66,  67,  71,  73,  76,\n",
    "             79,  81, 111, 115, 132, 135, 141, 144,\n",
    "            151, 157, 170, 176, 191, 192, 200, 201,\n",
    "            202, 207, 216, 224, 228, 237, 241, 252,\n",
    "        ]\n",
    "\n",
    "Zp = FiniteField (257)\n",
    "M = Matrix(Zp, 40, 20)\n",
    "for i in range (40):\n",
    "    for j in range (20):\n",
    "        M[i, j] = pow(Support[i],(j  + 1), W)\n",
    "\n",
    "message = vector([Zp(c) for c in b'WINTERNITZ IS COMING'])\n",
    "w = M * message\n",
    "I = list(argsort(w))[20:40]\n",
    "J = list(numpy.argsort(w))[:20]\n",
    "\n",
    "P = M[I].inverse()\n",
    "w_I = vector([w[i] for i in I])\n",
    "\n",
    "logging.info(\"beginning of bruteforce\")\n",
    "while True:\n",
    "    v = vector([randint(0, 256-a) for a in w_I])\n",
    "    c = M * (P * (w_I + v))\n",
    "    if all(c[j] >= w[j] for j in J):\n",
    "        forged_message = P * (w_I + v)\n",
    "        break\n",
    "logging.info(\"ending of bruteforce\")\n",
    "\n",
    "w_forged = M * forged_message\n",
    "assert all(i >= j for i, j in zip (w_forged, w))\n",
    "print(\"message found!\")\n",
    "print(forged_message)"
   ]
  },
  {
   "cell_type": "code",
   "execution_count": 99,
   "id": "ee7fe659-b3a7-43e9-8f14-6ead41d227fd",
   "metadata": {},
   "outputs": [
    {
     "data": {
      "text/plain": [
       "(189, 202, 207, 207, 208, 208, 209, 212, 226, 234, 235, 235, 239, 239, 239, 240, 241, 243, 243, 250)"
      ]
     },
     "execution_count": 99,
     "metadata": {},
     "output_type": "execute_result"
    }
   ],
   "source": [
    "w_I"
   ]
  },
  {
   "cell_type": "code",
   "execution_count": 109,
   "id": "7562a276-979f-4111-b22b-ab0e1920c2f6",
   "metadata": {},
   "outputs": [],
   "source": []
  },
  {
   "cell_type": "code",
   "execution_count": 73,
   "id": "c7375fec-0b52-4708-b83f-f4425245c134",
   "metadata": {},
   "outputs": [
    {
     "data": {
      "text/plain": [
       "False"
      ]
     },
     "execution_count": 73,
     "metadata": {},
     "output_type": "execute_result"
    }
   ],
   "source": []
  },
  {
   "cell_type": "code",
   "execution_count": 105,
   "id": "aec93c5e-109f-4f75-9962-2bdf512b87bf",
   "metadata": {},
   "outputs": [],
   "source": [
    "a = vector((6, 14, 61, 95, 188, 230, 48, 199, 25, 122, 47, 214, 186, 26, 184, 36, 7, 1, 233, 87))"
   ]
  },
  {
   "cell_type": "code",
   "execution_count": 106,
   "id": "62e5e482-a110-4ffc-a881-426ec608c909",
   "metadata": {},
   "outputs": [
    {
     "data": {
      "text/plain": [
       "(170, 166, 232, 122, 244, 243, 184, 240, 63, 240, 207, 153, 237, 251, 256, 246, 215, 256, 159, 219, 246, 224, 235, 256, 231, 247, 154, 246, 126, 250, 208, 219, 231, 197, 207, 247, 237, 95, 244, 94)"
      ]
     },
     "execution_count": 106,
     "metadata": {},
     "output_type": "execute_result"
    }
   ],
   "source": [
    "M * a"
   ]
  },
  {
   "cell_type": "code",
   "execution_count": 107,
   "id": "716ec37b-3abc-4109-a85d-30e77087fad7",
   "metadata": {},
   "outputs": [
    {
     "data": {
      "text/plain": [
       "(131, 11, 208, 118, 239, 239, 179, 68, 14, 202, 176, 127, 207, 180, 240, 189, 209, 243, 37, 212, 241, 50, 177, 250, 207, 234, 91, 239, 125, 235, 165, 139, 226, 65, 148, 235, 208, 75, 243, 27)"
      ]
     },
     "execution_count": 107,
     "metadata": {},
     "output_type": "execute_result"
    }
   ],
   "source": [
    "w"
   ]
  },
  {
   "cell_type": "code",
   "execution_count": null,
   "id": "25c3821f-8df7-401e-b25c-dc318f2d5359",
   "metadata": {},
   "outputs": [],
   "source": []
  }
 ],
 "metadata": {
  "kernelspec": {
   "display_name": "SageMath 10.2",
   "language": "sage",
   "name": "sagemath"
  },
  "language_info": {
   "codemirror_mode": {
    "name": "ipython",
    "version": 3
   },
   "file_extension": ".py",
   "mimetype": "text/x-python",
   "name": "python",
   "nbconvert_exporter": "python",
   "pygments_lexer": "ipython3",
   "version": "3.11.1"
  }
 },
 "nbformat": 4,
 "nbformat_minor": 5
}
