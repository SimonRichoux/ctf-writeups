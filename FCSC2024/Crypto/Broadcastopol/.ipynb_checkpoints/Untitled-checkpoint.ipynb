{
 "cells": [
  {
   "cell_type": "code",
   "execution_count": 126,
   "id": "b1753cc1-f5ac-4a36-a3e7-867f2fd5b192",
   "metadata": {},
   "outputs": [],
   "source": [
    "from Crypto.Util.number import long_to_bytes, bytes_to_long\n",
    "eck = bytes.fromhex(\"1119EB502F815EB502F8\")\n",
    "IV = bytes.fromhex(\"000dcf18\")"
   ]
  },
  {
   "cell_type": "code",
   "execution_count": 2,
   "id": "618dd8ae-36c3-487f-9ec8-96817e4284c3",
   "metadata": {},
   "outputs": [],
   "source": [
    "file_enc = 'known.wav.enc'\n",
    "file = 'known.wav'"
   ]
  },
  {
   "cell_type": "code",
   "execution_count": 3,
   "id": "73d576d4-b7c5-4d02-8414-88ee0cc92c31",
   "metadata": {},
   "outputs": [],
   "source": [
    "clear = open (file, \"rb\").read(100)"
   ]
  },
  {
   "cell_type": "code",
   "execution_count": 146,
   "id": "10e692e5-013a-4894-bd70-c629ebe2e0f7",
   "metadata": {},
   "outputs": [],
   "source": [
    "cipher = open (file_enc, \"rb\").read(100)"
   ]
  },
  {
   "cell_type": "code",
   "execution_count": 147,
   "id": "47d67693-4eaa-4da0-84b2-f83592e434d5",
   "metadata": {},
   "outputs": [
    {
     "data": {
      "text/plain": [
       "'e197d55e03e443efdcd330b846a35122f5ff291e7ba3804f33f4f9b779da37063d2cce0d1ef891c12435183dd69962030d6dc8cadcd338fa8a07accb30cf6923a6037656c5f35dc612967669d98dd8686d0098983b4cb6110568162fcc1e1a83b0ca28dd'"
      ]
     },
     "execution_count": 147,
     "metadata": {},
     "output_type": "execute_result"
    }
   ],
   "source": [
    "byte_xor(clear, cipher).hex()"
   ]
  },
  {
   "cell_type": "code",
   "execution_count": 9,
   "id": "a176b0e5-d061-4737-85fe-093ac8d9b961",
   "metadata": {},
   "outputs": [
    {
     "name": "stdout",
     "output_type": "stream",
     "text": [
      "b'RIFF'\n",
      "b'WAVE'\n"
     ]
    }
   ],
   "source": [
    "print(clear[0:4])\n",
    "print(clear[8:12])"
   ]
  },
  {
   "cell_type": "code",
   "execution_count": 152,
   "id": "b6a3865c-ee73-4d0c-a1e5-9795b903b8b5",
   "metadata": {},
   "outputs": [
    {
     "data": {
      "text/plain": [
       "['0x88', '0x9b', '0x91', '0x94', '0x7', '0x39', '0x8e', '0xd0', '0x3e', '0x5d']"
      ]
     },
     "execution_count": 152,
     "metadata": {},
     "output_type": "execute_result"
    }
   ],
   "source": [
    "[hex(c) for c, _ in zip(stream_RC4(eck+IV), range(10))]"
   ]
  },
  {
   "cell_type": "code",
   "execution_count": 151,
   "id": "a05ef35b-41e0-49b7-ab79-4b02beef3e12",
   "metadata": {},
   "outputs": [],
   "source": [
    "def ksa_RC4(key):\n",
    "    l = len(key)\n",
    "    S = [i for i in range (256)]\n",
    "    j = 0\n",
    "    for i in range (256):\n",
    "        j = (j + S[i] + key[i % l]) % 256\n",
    "        S[i], S[j] = S[j], S[i]\n",
    "    return S"
   ]
  },
  {
   "cell_type": "code",
   "execution_count": 143,
   "id": "9504a8c5-f287-426b-ab97-873785de9097",
   "metadata": {},
   "outputs": [],
   "source": [
    "def stream_RC4(key):\n",
    "    S = ksa_RC4(key)\n",
    "    i, j = 0, 0\n",
    "    while True:\n",
    "        i = (i + 1) % 256\n",
    "        j = (j + S[i]) % 256\n",
    "        S[i], S[j] = S[j], S[i]\n",
    "        t = (S[i] + S[j]) % 256\n",
    "        yield S[t]"
   ]
  },
  {
   "cell_type": "code",
   "execution_count": 50,
   "id": "90b315dd-9554-41d3-a4f5-c75b79fc54bc",
   "metadata": {},
   "outputs": [],
   "source": [
    "def byte_xor(ba1, ba2):\n",
    "    return bytes([_a ^^ _b for _a, _b in zip(ba1, ba2)])"
   ]
  }
 ],
 "metadata": {
  "kernelspec": {
   "display_name": "SageMath 10.2",
   "language": "sage",
   "name": "sagemath"
  },
  "language_info": {
   "codemirror_mode": {
    "name": "ipython",
    "version": 3
   },
   "file_extension": ".py",
   "mimetype": "text/x-python",
   "name": "python",
   "nbconvert_exporter": "python",
   "pygments_lexer": "ipython3",
   "version": "3.11.1"
  }
 },
 "nbformat": 4,
 "nbformat_minor": 5
}
