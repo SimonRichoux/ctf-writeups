{
 "cells": [
  {
   "cell_type": "code",
   "execution_count": 260,
   "id": "00871e51-d23e-47b7-ad0b-565050ff1a25",
   "metadata": {},
   "outputs": [],
   "source": [
    "import os\n",
    "import json\n",
    "from Crypto.Cipher import AES\n",
    "from Crypto.Util.Padding import pad\n",
    "from Crypto.Util.strxor import strxor as xor\n",
    "\n",
    "class TightSchedule:\n",
    "    S = [\n",
    "            0x63,0x7C,0x77,0x7B,0xF2,0x6B,0x6F,0xC5,0x30,0x01,0x67,0x2B,0xFE,0xD7,0xAB,0x76,\n",
    "            0xCA,0x82,0xC9,0x7D,0xFA,0x59,0x47,0xF0,0xAD,0xD4,0xA2,0xAF,0x9C,0xA4,0x72,0xC0,\n",
    "            0xB7,0xFD,0x93,0x26,0x36,0x3F,0xF7,0xCC,0x34,0xA5,0xE5,0xF1,0x71,0xD8,0x31,0x15,\n",
    "            0x04,0xC7,0x23,0xC3,0x18,0x96,0x05,0x9A,0x07,0x12,0x80,0xE2,0xEB,0x27,0xB2,0x75,\n",
    "            0x09,0x83,0x2C,0x1A,0x1B,0x6E,0x5A,0xA0,0x52,0x3B,0xD6,0xB3,0x29,0xE3,0x2F,0x84,\n",
    "            0x53,0xD1,0x00,0xED,0x20,0xFC,0xB1,0x5B,0x6A,0xCB,0xBE,0x39,0x4A,0x4C,0x58,0xCF,\n",
    "            0xD0,0xEF,0xAA,0xFB,0x43,0x4D,0x33,0x85,0x45,0xF9,0x02,0x7F,0x50,0x3C,0x9F,0xA8,\n",
    "            0x51,0xA3,0x40,0x8F,0x92,0x9D,0x38,0xF5,0xBC,0xB6,0xDA,0x21,0x10,0xFF,0xF3,0xD2,\n",
    "            0xCD,0x0C,0x13,0xEC,0x5F,0x97,0x44,0x17,0xC4,0xA7,0x7E,0x3D,0x64,0x5D,0x19,0x73,\n",
    "            0x60,0x81,0x4F,0xDC,0x22,0x2A,0x90,0x88,0x46,0xEE,0xB8,0x14,0xDE,0x5E,0x0B,0xDB,\n",
    "            0xE0,0x32,0x3A,0x0A,0x49,0x06,0x24,0x5C,0xC2,0xD3,0xAC,0x62,0x91,0x95,0xE4,0x79,\n",
    "            0xE7,0xC8,0x37,0x6D,0x8D,0xD5,0x4E,0xA9,0x6C,0x56,0xF4,0xEA,0x65,0x7A,0xAE,0x08,\n",
    "            0xBA,0x78,0x25,0x2E,0x1C,0xA6,0xB4,0xC6,0xE8,0xDD,0x74,0x1F,0x4B,0xBD,0x8B,0x8A,\n",
    "            0x70,0x3E,0xB5,0x66,0x48,0x03,0xF6,0x0E,0x61,0x35,0x57,0xB9,0x86,0xC1,0x1D,0x9E,\n",
    "            0xE1,0xF8,0x98,0x11,0x69,0xD9,0x8E,0x94,0x9B,0x1E,0x87,0xE9,0xCE,0x55,0x28,0xDF,\n",
    "            0x8C,0xA1,0x89,0x0D,0xBF,0xE6,0x42,0x68,0x41,0x99,0x2D,0x0F,0xB0,0x54,0xBB,0x16\n",
    "    ]\n",
    "    RCON = [0x8d, 0x01, 0x02, 0x04, 0x08, 0x10, 0x20, 0x40, 0x80, 0x1b, 0x36]\n",
    "\n",
    "    def __init__(self, key):\n",
    "        self.key = key\n",
    "        self.rk = self.expandKey(self.key)\n",
    "\n",
    "    def _round(self, x, cst = 0): # fancy permutation # can be inverted\n",
    "        a, b, c, d = x[-4:]\n",
    "        t = bytes([self.S[b] ^^ cst, self.S[c], self.S[d], self.S[a]])\n",
    "        y  = xor(x[ 0: 4], t)\n",
    "        y += xor(x[ 4: 8], y[-4:]) # append bytes at the end\n",
    "        y += xor(x[ 8:12], y[-4:])\n",
    "        y += xor(x[12:16], y[-4:])\n",
    "        return y\n",
    "\n",
    "    def _round_inv(self, y, cst = 0):\n",
    "        t_0 = y[ 0: 4]\n",
    "        t_1 = y[ 4: 8]\n",
    "        t_2 = y[ 8: 12]\n",
    "        t_3 = y[ 12: 16]\n",
    "        x = [0]*16\n",
    "        x[ 0: 4] = t_0   \n",
    "        x[ 4: 8] = xor(t_0, t_1)\n",
    "        x[ 8:12] = xor(t_1, t_2)\n",
    "        x[12:16] = xor(t_2, t_3)\n",
    "        x[0] = x[0] ^^ self.S[x[13]] ^^ cst\n",
    "        x[1] = x[1] ^^ self.S[x[14]]\n",
    "        x[2] = x[2] ^^ self.S[x[15]]\n",
    "        x[3] = x[3] ^^ self.S[x[12]]\n",
    "        return bytes(x)\n",
    "    \n",
    "    def expandKey(self, k):\n",
    "        rk = [k]\n",
    "        for _ in range(10):\n",
    "            rk.append(self._round(rk[-1], self.RCON[len(rk)])) # value 0 of RCON is unused\n",
    "        return rk\n",
    "\n",
    "    def encrypt(self, p):\n",
    "        c = p\n",
    "        for sk in self.rk[:-1]:\n",
    "            c = xor(c, sk)\n",
    "            for _ in range(5):\n",
    "                c = self._round(c)\n",
    "        return xor(c, self.rk[-1])\n",
    "\n",
    "    def decrypt(self, p):\n",
    "        p = xor(p, self.rk[-1])\n",
    "        for sk in self.rk[:-1][::-1]:\n",
    "            for _ in range(5):\n",
    "                p = self._round_inv(p)\n",
    "            p = xor(p, sk)\n",
    "        return p"
   ]
  },
  {
   "cell_type": "code",
   "execution_count": 529,
   "id": "3c820fe5-2b37-4e95-8e24-410683b1ffaa",
   "metadata": {},
   "outputs": [
    {
     "name": "stdout",
     "output_type": "stream",
     "text": [
      "[3, 3, 5, 1, 0, 3, 0, 1, 3, 0, 0, 1, 0, 0, 0, 1]\n",
      "[3, 5, 1, 3, 3, 0, 1, 0, 0, 0, 1, 3, 0, 0, 1, 0]\n",
      "[5, 1, 3, 3, 0, 1, 0, 3, 0, 1, 3, 0, 0, 1, 0, 0]\n",
      "[1, 3, 3, 5, 1, 0, 3, 0, 1, 3, 0, 0, 1, 0, 0, 0]\n"
     ]
    }
   ],
   "source": [
    "a, b, c, d = 1, 1, 1, 1\n",
    "k = [a+b+c+d,a+b+c+d,a+b+c+d,a+b+c+d,a+c,a+c,a+c,a+c,a+d,a+d,a+d,a+d,a,a,a,a]\n",
    "k = tab_to_bytes(k)\n",
    "print(pi_i(k, 0))\n",
    "print(pi_i(k, 1))\n",
    "print(pi_i(k, 2))\n",
    "print(pi_i(k, 3))"
   ]
  },
  {
   "cell_type": "code",
   "execution_count": 467,
   "id": "5d2ee86e-0196-45c2-9f31-eb4da5cd12af",
   "metadata": {},
   "outputs": [
    {
     "data": {
      "text/plain": [
       "[102, 21, 197, 103, 126, 255, 65, 218, 236, 89, 4, 114, 215, 71, 238, 169]"
      ]
     },
     "execution_count": 467,
     "metadata": {},
     "output_type": "execute_result"
    }
   ],
   "source": [
    "P = TightSchedule(k)\n",
    "bytes_to_tab(P.encrypt(b'\\x00'*16))"
   ]
  },
  {
   "cell_type": "code",
   "execution_count": 344,
   "id": "a71b55ff-e5f0-4222-b266-47398a7857af",
   "metadata": {},
   "outputs": [],
   "source": [
    "import os\n",
    "import json\n",
    "from Crypto.Cipher import AES\n",
    "from Crypto.Util.Padding import pad\n",
    "from Crypto.Util.strxor import strxor as xor\n",
    "\n",
    "class ClikeTightSchedule:\n",
    "    S = [\n",
    "            0x63,0x7C,0x77,0x7B,0xF2,0x6B,0x6F,0xC5,0x30,0x01,0x67,0x2B,0xFE,0xD7,0xAB,0x76,\n",
    "            0xCA,0x82,0xC9,0x7D,0xFA,0x59,0x47,0xF0,0xAD,0xD4,0xA2,0xAF,0x9C,0xA4,0x72,0xC0,\n",
    "            0xB7,0xFD,0x93,0x26,0x36,0x3F,0xF7,0xCC,0x34,0xA5,0xE5,0xF1,0x71,0xD8,0x31,0x15,\n",
    "            0x04,0xC7,0x23,0xC3,0x18,0x96,0x05,0x9A,0x07,0x12,0x80,0xE2,0xEB,0x27,0xB2,0x75,\n",
    "            0x09,0x83,0x2C,0x1A,0x1B,0x6E,0x5A,0xA0,0x52,0x3B,0xD6,0xB3,0x29,0xE3,0x2F,0x84,\n",
    "            0x53,0xD1,0x00,0xED,0x20,0xFC,0xB1,0x5B,0x6A,0xCB,0xBE,0x39,0x4A,0x4C,0x58,0xCF,\n",
    "            0xD0,0xEF,0xAA,0xFB,0x43,0x4D,0x33,0x85,0x45,0xF9,0x02,0x7F,0x50,0x3C,0x9F,0xA8,\n",
    "            0x51,0xA3,0x40,0x8F,0x92,0x9D,0x38,0xF5,0xBC,0xB6,0xDA,0x21,0x10,0xFF,0xF3,0xD2,\n",
    "            0xCD,0x0C,0x13,0xEC,0x5F,0x97,0x44,0x17,0xC4,0xA7,0x7E,0x3D,0x64,0x5D,0x19,0x73,\n",
    "            0x60,0x81,0x4F,0xDC,0x22,0x2A,0x90,0x88,0x46,0xEE,0xB8,0x14,0xDE,0x5E,0x0B,0xDB,\n",
    "            0xE0,0x32,0x3A,0x0A,0x49,0x06,0x24,0x5C,0xC2,0xD3,0xAC,0x62,0x91,0x95,0xE4,0x79,\n",
    "            0xE7,0xC8,0x37,0x6D,0x8D,0xD5,0x4E,0xA9,0x6C,0x56,0xF4,0xEA,0x65,0x7A,0xAE,0x08,\n",
    "            0xBA,0x78,0x25,0x2E,0x1C,0xA6,0xB4,0xC6,0xE8,0xDD,0x74,0x1F,0x4B,0xBD,0x8B,0x8A,\n",
    "            0x70,0x3E,0xB5,0x66,0x48,0x03,0xF6,0x0E,0x61,0x35,0x57,0xB9,0x86,0xC1,0x1D,0x9E,\n",
    "            0xE1,0xF8,0x98,0x11,0x69,0xD9,0x8E,0x94,0x9B,0x1E,0x87,0xE9,0xCE,0x55,0x28,0xDF,\n",
    "            0x8C,0xA1,0x89,0x0D,0xBF,0xE6,0x42,0x68,0x41,0x99,0x2D,0x0F,0xB0,0x54,0xBB,0x16\n",
    "    ]\n",
    "    RCON = [0x8d, 0x01, 0x02, 0x04, 0x08, 0x10, 0x20, 0x40, 0x80, 0x1b, 0x36]\n",
    "\n",
    "    def __init__(self, key):\n",
    "        self.key = key\n",
    "        self.rk = rk = [[0]*16 for _ in range (11)] # call to malloc   \n",
    "        self.expandKey(self.key, self.rk)\n",
    "\n",
    "    def _xor(self, x, y):\n",
    "        # modify x\n",
    "        for i in range (16):\n",
    "            x[i] ^^= y[i]\n",
    "\n",
    "    def _round_in_place(self, input, cst = 0):\n",
    "        for i in range (4):\n",
    "            if i != 0:\n",
    "                for j in range (4):\n",
    "                    input[4*i + j] ^^= input[4*(i-1) + j]\n",
    "            else:\n",
    "                input[0] ^^= self.S[input[13]] ^^ cst\n",
    "                input[1] ^^= self.S[input[14]]\n",
    "                input[2] ^^= self.S[input[15]]\n",
    "                input[3] ^^= self.S[input[12]]\n",
    "    \n",
    "    def _round_out_of_place(self, input, output, cst = 0):\n",
    "        for i in range (4):\n",
    "            if i != 0:\n",
    "                for j in range (4):\n",
    "                    output[4*i + j] ^^= input[4*i + j]\n",
    "                    output[4*i + j] ^^= output[4*(i-1) + j]\n",
    "            else:\n",
    "                output[0] = input[0] ^^ self.S[input[13]] ^^ cst\n",
    "                output[1] = input[1] ^^ self.S[input[14]]\n",
    "                output[2] = input[2] ^^ self.S[input[15]]\n",
    "                output[3] = input[3] ^^ self.S[input[12]]\n",
    "\n",
    "    def expandKey(self, k, rk):\n",
    "        rk[0] = k\n",
    "        for i in range(1, 11):\n",
    "            self._round_out_of_place(rk[i-1], rk[i], self.RCON[i])\n",
    "\n",
    "    def encrypt(self, input, output):\n",
    "        # we must copy all the value of the input in the ouput\n",
    "        output_ = input.copy() \n",
    "        for i in range (10):\n",
    "            self._xor(output_, self.rk[i])\n",
    "            for _ in range(5):\n",
    "                self._round_in_place(output_)\n",
    "        self._xor(output_, self.rk[10])\n",
    "        # that should not occur while writing C code\n",
    "        for i in range (16):\n",
    "            output[i] = output_[i]"
   ]
  },
  {
   "cell_type": "code",
   "execution_count": 426,
   "id": "945e342b-f8ca-4e33-836f-f130acd8f6b6",
   "metadata": {},
   "outputs": [],
   "source": [
    "k = os.urandom(16)\n",
    "msg = os.urandom(16)"
   ]
  },
  {
   "cell_type": "code",
   "execution_count": 458,
   "id": "935b8255-0001-4354-9f57-6bf38d6d364a",
   "metadata": {},
   "outputs": [],
   "source": [
    "from tqdm import tqdm\n",
    "\n",
    "P = TightSchedule(k)\n",
    "clear  = bytes_to_tab(msg)\n",
    "cipher = bytes_to_tab(P.encrypt(msg))\n",
    "\n",
    "for i in range (4):\n",
    "    k_i = sum (pi_i(bytes_to_tab(k), i), pi_i(bytes_to_tab(os.urandom(16)), i+1))\n",
    "    #msg_i = pi_i(bytes_to_tab(msg), i)\n",
    "    msg_i = bytes_to_tab(msg)\n",
    "    \n",
    "    output = [0] * 16\n",
    "    P = ClikeTightSchedule(k_i)\n",
    "    P.encrypt(msg_i, output)\n",
    "    assert pi_i(output, i+2) == pi_i(cipher, i+2)"
   ]
  },
  {
   "cell_type": "code",
   "execution_count": 405,
   "id": "85590b1e-c156-4ea9-83cf-0b3d950d1ce2",
   "metadata": {},
   "outputs": [
    {
     "ename": "AttributeError",
     "evalue": "'ClikeTightSchedule' object has no attribute 'decrypt'",
     "output_type": "error",
     "traceback": [
      "\u001b[0;31m---------------------------------------------------------------------------\u001b[0m",
      "\u001b[0;31mAttributeError\u001b[0m                            Traceback (most recent call last)",
      "Cell \u001b[0;32mIn[405], line 3\u001b[0m\n\u001b[1;32m      1\u001b[0m flag \u001b[38;5;241m=\u001b[39m \u001b[38;5;124mb\u001b[39m\u001b[38;5;124m\"\u001b[39m\u001b[38;5;124mtext\u001b[39m\u001b[38;5;124m\"\u001b[39m\n\u001b[0;32m----> 3\u001b[0m \u001b[43mP\u001b[49m\u001b[38;5;241;43m.\u001b[39;49m\u001b[43mdecrypt\u001b[49m(P\u001b[38;5;241m.\u001b[39mencrypt(pad(flag, Integer(\u001b[38;5;241m16\u001b[39m)))) \u001b[38;5;241m==\u001b[39m pad(flag, Integer(\u001b[38;5;241m16\u001b[39m))\n",
      "\u001b[0;31mAttributeError\u001b[0m: 'ClikeTightSchedule' object has no attribute 'decrypt'"
     ]
    }
   ],
   "source": [
    "flag = b\"text\"\n",
    "\n",
    "P.decrypt(P.encrypt(pad(flag, 16))) == pad(flag, 16)"
   ]
  },
  {
   "cell_type": "code",
   "execution_count": 28,
   "id": "71081e37-e03c-4187-a53f-c84eb0c71c8c",
   "metadata": {},
   "outputs": [
    {
     "data": {
      "text/plain": [
       "False"
      ]
     },
     "execution_count": 28,
     "metadata": {},
     "output_type": "execute_result"
    }
   ],
   "source": [
    "P.decrypt(P.encrypt(p)) == p"
   ]
  },
  {
   "cell_type": "markdown",
   "id": "d55dfee7-1273-4910-beb1-f7a14392ef2e",
   "metadata": {},
   "source": [
    "The matrix $A$ transforms the function a byte from the canonical basis to the new basis.\n",
    "\n",
    "It takes a vector $x\\in (\\mathbb{F}_{2^8})^{16}$ and outputs its decomposition in the new basis."
   ]
  },
  {
   "cell_type": "code",
   "execution_count": 508,
   "id": "5fd04433-41b8-42e6-b6e0-20d73fe5940d",
   "metadata": {},
   "outputs": [],
   "source": [
    "A = [ \n",
    "        [0,0,0,0,0,0,0,0,0,0,0,0,0,0,0,1],\n",
    "        [0,0,1,0,0,0,1,0,0,0,1,0,0,0,1,0],\n",
    "        [0,0,0,0,0,1,0,0,0,0,0,0,0,1,0,0],\n",
    "        [0,0,0,0,0,0,0,0,1,0,0,0,1,0,0,0],\n",
    "        [0,0,0,0,0,0,0,0,0,0,0,0,0,0,1,0],\n",
    "        [0,1,0,0,0,1,0,0,0,1,0,0,0,1,0,0],\n",
    "        [0,0,0,0,1,0,0,0,0,0,0,0,1,0,0,0],\n",
    "        [0,0,0,0,0,0,0,0,0,0,0,1,0,0,0,1],\n",
    "        [0,0,0,0,0,0,0,0,0,0,0,0,0,1,0,0],\n",
    "        [1,0,0,0,1,0,0,0,1,0,0,0,1,0,0,0],\n",
    "        [0,0,0,0,0,0,0,1,0,0,0,0,0,0,0,1],\n",
    "        [0,0,0,0,0,0,0,0,0,0,1,0,0,0,1,0],\n",
    "        [0,0,0,0,0,0,0,0,0,0,0,0,1,0,0,0],\n",
    "        [0,0,0,1,0,0,0,1,0,0,0,1,0,0,0,1],\n",
    "        [0,0,0,0,0,0,1,0,0,0,0,0,0,0,1,0],\n",
    "        [0,0,0,0,0,0,0,0,0,1,0,0,0,1,0,0]\n",
    "    ]\n",
    "\n",
    "A_inv = [\n",
    "        [0,0,0,1,0,0,1,0,0,1,0,0,1,0,0,0],\n",
    "        [0,0,1,0,0,1,0,0,1,0,0,0,0,0,0,1],\n",
    "        [0,1,0,0,1,0,0,0,0,0,0,1,0,0,1,0],\n",
    "        [1,0,0,0,0,0,0,1,0,0,1,0,0,1,0,0],\n",
    "        [0,0,0,0,0,0,1,0,0,0,0,0,1,0,0,0],\n",
    "        [0,0,1,0,0,0,0,0,1,0,0,0,0,0,0,0],\n",
    "        [0,0,0,0,1,0,0,0,0,0,0,0,0,0,1,0],\n",
    "        [1,0,0,0,0,0,0,0,0,0,1,0,0,0,0,0],\n",
    "        [0,0,0,1,0,0,0,0,0,0,0,0,1,0,0,0],\n",
    "        [0,0,0,0,0,0,0,0,1,0,0,0,0,0,0,1],\n",
    "        [0,0,0,0,1,0,0,0,0,0,0,1,0,0,0,0],\n",
    "        [1,0,0,0,0,0,0,1,0,0,0,0,0,0,0,0],\n",
    "        [0,0,0,0,0,0,0,0,0,0,0,0,1,0,0,0],\n",
    "        [0,0,0,0,0,0,0,0,1,0,0,0,0,0,0,0],\n",
    "        [0,0,0,0,1,0,0,0,0,0,0,0,0,0,0,0],\n",
    "        [1,0,0,0,0,0,0,0,0,0,0,0,0,0,0,0]\n",
    "]\n",
    "\n",
    "#A = Matrix(FiniteField(2), A)\n",
    "#A_inv = Matrix(FiniteField(2), A_inv)\n",
    "\n",
    "#assert A * A_inv == Matrix.identity(16)\n",
    "\n",
    "A = Matrix(ZZ, A)\n",
    "A_inv = Matrix(ZZ, A_inv)\n",
    "\n",
    "def bytes_to_tab (b):\n",
    "    return [c for c in b]\n",
    "\n",
    "def tab_to_bytes(t):\n",
    "    return bytes(t)\n",
    "\n",
    "def canonical_to_invariant (input: list):\n",
    "    output = [0] * 16\n",
    "    for i in range (16):\n",
    "        for j in range (16):\n",
    "            output[i] ^^= A[i, j] * input[j]\n",
    "    return output\n",
    "\n",
    "def invariant_to_canonical (input: list):\n",
    "    output = [0] * 16\n",
    "    for i in range (16):\n",
    "        for j in range (16):\n",
    "            output[i] ^^= A_inv[i, j] * input[j]\n",
    "    return output\n",
    "\n",
    "def pi_i(input, i):\n",
    "    # return the ith projection of input\n",
    "    i = i%4\n",
    "    output = canonical_to_invariant(input)\n",
    "    for j in range (16):\n",
    "        if not (4*i <= j < 4*(i+1)):\n",
    "            output[j] = 0\n",
    "    output = invariant_to_canonical(output)\n",
    "    return output\n",
    "\n",
    "def lift_pi_i(a, b, c, d, i):\n",
    "    i = i%4\n",
    "    if i==0:\n",
    "        return [d,c,b,a,0,c,0,a,d,0,0,a,0,0,0,a]\n",
    "    elif i==1:\n",
    "        return [c,b,a,d,c,0,a,0,0,0,a,d,0,0,a,0]\n",
    "    elif i==2:\n",
    "        return [b,a,d,c,0,a,0,c,0,a,d,0,0,a,0,0]\n",
    "    else: # i==3\n",
    "        return [a,d,c,b,a,0,c,0,a,d,0,0,a,0,0,0]\n",
    "\n",
    "def sum (x, y):\n",
    "    return [a ^^ b for a, b in zip(x, y)]\n",
    "\n",
    "def sum_parts (pi_0, pi_1, pi_2, pi_3):\n",
    "    s = [a ^^ b ^^ c ^^ d for a, b, c, d in zip(pi_0, pi_1, pi_2, pi_3)]\n",
    "    return tab_to_bytes(s)"
   ]
  },
  {
   "cell_type": "code",
   "execution_count": null,
   "id": "b68de7b1-0c88-4454-8278-4ce1be6f68fd",
   "metadata": {},
   "outputs": [],
   "source": []
  },
  {
   "cell_type": "code",
   "execution_count": 509,
   "id": "c6ff224e-3434-4ad8-9a46-24f86a536d79",
   "metadata": {},
   "outputs": [
    {
     "data": {
      "text/plain": [
       "True"
      ]
     },
     "execution_count": 509,
     "metadata": {},
     "output_type": "execute_result"
    }
   ],
   "source": [
    "key = bytes_to_tab(k)\n",
    "pi_0 = pi_i(key, 0)\n",
    "pi_1 = pi_i(key, 1)\n",
    "pi_2 = pi_i(key, 2)\n",
    "pi_3 = pi_i(key, 3)\n",
    "k == sum_parts(pi_0, pi_1, pi_2, pi_3)"
   ]
  },
  {
   "cell_type": "code",
   "execution_count": 425,
   "id": "c84cf849-fcd3-42e0-afc8-8684c89f246c",
   "metadata": {},
   "outputs": [],
   "source": [
    "a, b, c, d = 1, 2, 3, 4\n",
    "for i in range (4):\n",
    "    x = lift_pi_i(a, b, c, d, i)\n",
    "    assert pi_i(x, i) == x"
   ]
  },
  {
   "cell_type": "code",
   "execution_count": 257,
   "id": "930c7aa4-f091-4808-9ada-ace6b86b982b",
   "metadata": {},
   "outputs": [
    {
     "data": {
      "text/plain": [
       "False"
      ]
     },
     "execution_count": 257,
     "metadata": {},
     "output_type": "execute_result"
    }
   ],
   "source": [
    "v = vector((0,1,0,0,0,0,0,0,0,1,0,0,0,0,0,0))\n",
    "v = (2^8 - 1) * v\n",
    "v = v.list()\n",
    "pi_i(v, 3) == v"
   ]
  },
  {
   "cell_type": "code",
   "execution_count": 495,
   "id": "a879072d-744f-49fd-a506-ddbeda55af61",
   "metadata": {},
   "outputs": [],
   "source": [
    "from json import loads\n",
    "file = \"output.txt\"\n",
    "tab = json.loads(open(file, \"r\").read())\n",
    "plaintext = bytes.fromhex(tab[\"p\"])\n",
    "ciphertext = bytes.fromhex(tab[\"c\"])\n",
    "iv = bytes.fromhex(tab[\"iv\"])\n",
    "flag_enc = bytes.fromhex(tab[\"flag_enc\"])"
   ]
  },
  {
   "cell_type": "code",
   "execution_count": 507,
   "id": "11991bd3-29f8-4d2c-af53-f6047e07b5c5",
   "metadata": {},
   "outputs": [
    {
     "data": {
      "text/plain": [
       "[212, 237, 25, 224, 105, 65, 1, 182, 177, 81, 225, 28, 45, 185, 115, 191]"
      ]
     },
     "execution_count": 507,
     "metadata": {},
     "output_type": "execute_result"
    }
   ],
   "source": [
    "bytes_to_tab(ciphertext)"
   ]
  },
  {
   "cell_type": "code",
   "execution_count": 514,
   "id": "cb7249a6-f84c-422c-b446-a9f12ce49a3f",
   "metadata": {},
   "outputs": [],
   "source": [
    "pi_2 = [7, 64, 187, 9, 0, 64, 0, 9, 0, 64, 187, 0, 0, 64, 0, 0]\n",
    "pi_1 = [96, 217, 153, 215, 96, 0, 153, 0, 0, 0, 153, 215, 0, 0, 153, 0]\n",
    "pi_0 = [71, 142, 75, 90, 0, 142, 0, 90, 71, 0, 0, 90, 0, 0, 0, 90]\n",
    "pi_3 = [76, 127, 191, 108, 76, 0, 191, 0, 76, 127, 0, 0, 76, 0, 0, 0]"
   ]
  },
  {
   "cell_type": "code",
   "execution_count": 515,
   "id": "bebfbf53-3d52-4ec4-962e-45567b891d92",
   "metadata": {},
   "outputs": [],
   "source": [
    "k = sum_parts(pi_0, pi_1, pi_2, pi_3)"
   ]
  },
  {
   "cell_type": "code",
   "execution_count": 516,
   "id": "35217eab-db78-49f2-91cf-40e779c0621b",
   "metadata": {},
   "outputs": [
    {
     "data": {
      "text/plain": [
       "b'\\xbcPo\\x0c\\xab\\x07\\xfe\\x9c\\xa4\\x80\\xe1\\\\\\xa2Xj\\x80\\xcb].\\xd2~|\\xc0\\x05|n\\xffI\\xf7)\\x98XU\\xc2\\x82,YB\\x85IM\\xab\\xdbW\\xba\\x89\\x05v\\xb9\\xdc\\xe6\\x80`\\rU#\\xc4\\x82\\xf8\\xe7e\\xc0\\xa2A3\\x8b\\xc6\\xc1J\\xce\\x01?\\xe7\\x15{b\\x12\\x07\\xf2\\x06'"
      ]
     },
     "execution_count": 516,
     "metadata": {},
     "output_type": "execute_result"
    }
   ],
   "source": [
    "from Crypto.Cipher import AES\n",
    "E = AES.new(k, AES.MODE_CBC, iv = iv)\n",
    "E.decrypt(flag_enc)"
   ]
  },
  {
   "cell_type": "code",
   "execution_count": 517,
   "id": "799c4195-e8b2-4dac-a793-3ee1640a11aa",
   "metadata": {},
   "outputs": [
    {
     "data": {
      "text/plain": [
       "False"
      ]
     },
     "execution_count": 517,
     "metadata": {},
     "output_type": "execute_result"
    }
   ],
   "source": [
    "P = TightSchedule(k)\n",
    "P.encrypt(plaintext) == ciphertext"
   ]
  },
  {
   "cell_type": "code",
   "execution_count": null,
   "id": "2509034d-3045-4b9f-b626-6b622f939b06",
   "metadata": {},
   "outputs": [],
   "source": []
  }
 ],
 "metadata": {
  "kernelspec": {
   "display_name": "SageMath 10.3",
   "language": "sage",
   "name": "sagemath-10.3"
  },
  "language_info": {
   "codemirror_mode": {
    "name": "ipython",
    "version": 3
   },
   "file_extension": ".py",
   "mimetype": "text/x-python",
   "name": "python",
   "nbconvert_exporter": "python",
   "pygments_lexer": "ipython3",
   "version": "3.11.8"
  }
 },
 "nbformat": 4,
 "nbformat_minor": 5
}
