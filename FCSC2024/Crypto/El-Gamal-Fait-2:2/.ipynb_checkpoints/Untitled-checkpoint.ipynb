{
 "cells": [
  {
   "cell_type": "code",
   "execution_count": 25,
   "id": "41b211da-458f-4b2f-a30f-d74c4c0383f3",
   "metadata": {},
   "outputs": [
    {
     "name": "stdout",
     "output_type": "stream",
     "text": [
      "[x] Opening connection to challenges.france-cybersecurity-challenge.fr on port 2152\n",
      "[x] Opening connection to challenges.france-cybersecurity-challenge.fr on port 2152: Trying 54.36.209.75\n",
      "[+] Opening connection to challenges.france-cybersecurity-challenge.fr on port 2152: Done\n",
      "[x] Receiving all data\n",
      "[x] Receiving all data: 39B\n",
      "[x] Receiving all data: 57B\n",
      "[x] Receiving all data: 198B\n",
      "[+] Receiving all data: Done (198B)\n",
      "[*] Closed connection to challenges.france-cybersecurity-challenge.fr port 2152\n",
      "FCSC{095a8d759222a3430328e4a36bc369d739926ce2a836d0e61f67889e80239119}\n"
     ]
    }
   ],
   "source": [
    "from pwn import *\n",
    "HOST, PORT = \"challenges.france-cybersecurity-challenge.fr\", \"2152\"\n",
    "\n",
    "io = remote(HOST, PORT)\n",
    "io.recvline()\n",
    "p = int(io.recvline()[4:-1])\n",
    "g = int(io.recvline()[4:-1])\n",
    "y = int(io.recvline()[4:-1])\n",
    "m = int(io.recvline().split(b'm = ')[1][:-1])\n",
    "\n",
    "r = (p-1)//2\n",
    "s = -m % (p-1)\n",
    "\n",
    "io.sendline(f\"{r}\")\n",
    "io.sendline(f\"{s}\")\n",
    "\n",
    "msg = io.recvall().decode().strip()\n",
    "if \"FCSC\" in msg:\n",
    "    print(\"FCSC\" + msg.split(\"FCSC\")[-1])\n",
    "else:\n",
    "    print(\"fail\")\n",
    "\n",
    "io.close()"
   ]
  },
  {
   "cell_type": "code",
   "execution_count": null,
   "id": "b88cb1bd-c516-4ec0-8ce0-0c5aed93630d",
   "metadata": {},
   "outputs": [],
   "source": []
  }
 ],
 "metadata": {
  "kernelspec": {
   "display_name": "SageMath 10.2",
   "language": "sage",
   "name": "sagemath"
  },
  "language_info": {
   "codemirror_mode": {
    "name": "ipython",
    "version": 3
   },
   "file_extension": ".py",
   "mimetype": "text/x-python",
   "name": "python",
   "nbconvert_exporter": "python",
   "pygments_lexer": "ipython3",
   "version": "3.11.1"
  }
 },
 "nbformat": 4,
 "nbformat_minor": 5
}
