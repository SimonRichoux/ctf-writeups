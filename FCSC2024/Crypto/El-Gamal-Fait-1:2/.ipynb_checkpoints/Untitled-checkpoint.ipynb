{
 "cells": [
  {
   "cell_type": "code",
   "execution_count": 6,
   "id": "9a1f8fd1-9728-44fa-9ff7-54d71462fa1d",
   "metadata": {},
   "outputs": [],
   "source": [
    "from pwn import *"
   ]
  },
  {
   "cell_type": "code",
   "execution_count": 7,
   "id": "a0d0d292-e103-4fa7-84fd-8e3d653bb2d1",
   "metadata": {},
   "outputs": [
    {
     "name": "stdout",
     "output_type": "stream",
     "text": [
      "[x] Opening connection to challenges.france-cybersecurity-challenge.fr on port 2151\n",
      "[x] Opening connection to challenges.france-cybersecurity-challenge.fr on port 2151: Trying 54.36.209.75\n",
      "[+] Opening connection to challenges.france-cybersecurity-challenge.fr on port 2151: Done\n"
     ]
    },
    {
     "data": {
      "text/plain": [
       "b'Public key:\\n'"
      ]
     },
     "execution_count": 7,
     "metadata": {},
     "output_type": "execute_result"
    }
   ],
   "source": [
    "HOST, PORT = \"challenges.france-cybersecurity-challenge.fr\", \"2151\"\n",
    "r = remote(HOST, PORT)\n",
    "r.recvline()"
   ]
  },
  {
   "cell_type": "code",
   "execution_count": 8,
   "id": "4ae66552-ec8c-4160-b7d4-5544f9e8e9cd",
   "metadata": {},
   "outputs": [],
   "source": [
    "p = int(r.recvline()[4:-1])\n",
    "g = int(r.recvline()[4:-1])\n",
    "y = int(r.recvline()[4:-1])"
   ]
  },
  {
   "cell_type": "code",
   "execution_count": 9,
   "id": "bd823923-3720-4d42-be8f-09d32e7ba466",
   "metadata": {},
   "outputs": [
    {
     "ename": "AttributeError",
     "evalue": "'sage.rings.integer.Integer' object has no attribute 'sendline'",
     "output_type": "error",
     "traceback": [
      "\u001b[0;31m---------------------------------------------------------------------------\u001b[0m",
      "\u001b[0;31mAttributeError\u001b[0m                            Traceback (most recent call last)",
      "Cell \u001b[0;32mIn [9], line 6\u001b[0m\n\u001b[1;32m      3\u001b[0m s \u001b[38;5;241m=\u001b[39m \u001b[38;5;241m-\u001b[39mr \u001b[38;5;241m%\u001b[39m (p\u001b[38;5;241m-\u001b[39mInteger(\u001b[38;5;241m1\u001b[39m))\n\u001b[1;32m      4\u001b[0m m \u001b[38;5;241m=\u001b[39m e\u001b[38;5;241m*\u001b[39ms \u001b[38;5;241m%\u001b[39m (p\u001b[38;5;241m-\u001b[39mInteger(\u001b[38;5;241m1\u001b[39m))\n\u001b[0;32m----> 6\u001b[0m \u001b[43mr\u001b[49m\u001b[38;5;241;43m.\u001b[39;49m\u001b[43msendline\u001b[49m(\u001b[38;5;124mf\u001b[39m\u001b[38;5;124m\"\u001b[39m\u001b[38;5;132;01m{\u001b[39;00mm\u001b[38;5;132;01m}\u001b[39;00m\u001b[38;5;124m\"\u001b[39m\u001b[38;5;241m.\u001b[39mencode())\n\u001b[1;32m      7\u001b[0m r\u001b[38;5;241m.\u001b[39msendline(\u001b[38;5;124mf\u001b[39m\u001b[38;5;124m\"\u001b[39m\u001b[38;5;132;01m{\u001b[39;00mr\u001b[38;5;132;01m}\u001b[39;00m\u001b[38;5;124m\"\u001b[39m)\n\u001b[1;32m      8\u001b[0m r\u001b[38;5;241m.\u001b[39msendline(\u001b[38;5;124mf\u001b[39m\u001b[38;5;124m\"\u001b[39m\u001b[38;5;132;01m{\u001b[39;00ms\u001b[38;5;132;01m}\u001b[39;00m\u001b[38;5;124m\"\u001b[39m)\n",
      "File \u001b[0;32m/private/var/tmp/sage-10.2-current/local/var/lib/sage/venv-python3.11.1/lib/python3.11/site-packages/sage/structure/element.pyx:489\u001b[0m, in \u001b[0;36msage.structure.element.Element.__getattr__ (build/cythonized/sage/structure/element.c:11576)\u001b[0;34m()\u001b[0m\n\u001b[1;32m    487\u001b[0m         AttributeError: 'LeftZeroSemigroup_with_category.element_class' object has no attribute 'blah_blah'...\n\u001b[1;32m    488\u001b[0m     \"\"\"\n\u001b[0;32m--> 489\u001b[0m     return self.getattr_from_category(name)\n\u001b[1;32m    490\u001b[0m \n\u001b[1;32m    491\u001b[0m cdef getattr_from_category(self, name) noexcept:\n",
      "File \u001b[0;32m/private/var/tmp/sage-10.2-current/local/var/lib/sage/venv-python3.11.1/lib/python3.11/site-packages/sage/structure/element.pyx:502\u001b[0m, in \u001b[0;36msage.structure.element.Element.getattr_from_category (build/cythonized/sage/structure/element.c:11686)\u001b[0;34m()\u001b[0m\n\u001b[1;32m    500\u001b[0m     else:\n\u001b[1;32m    501\u001b[0m         cls = P._abstract_element_class\n\u001b[0;32m--> 502\u001b[0m     return getattr_from_other_class(self, cls, name)\n\u001b[1;32m    503\u001b[0m \n\u001b[1;32m    504\u001b[0m def __dir__(self):\n",
      "File \u001b[0;32m/private/var/tmp/sage-10.2-current/local/var/lib/sage/venv-python3.11.1/lib/python3.11/site-packages/sage/cpython/getattr.pyx:362\u001b[0m, in \u001b[0;36msage.cpython.getattr.getattr_from_other_class (build/cythonized/sage/cpython/getattr.c:4424)\u001b[0;34m()\u001b[0m\n\u001b[1;32m    360\u001b[0m     dummy_error_message.cls = type(self)\n\u001b[1;32m    361\u001b[0m     dummy_error_message.name = name\n\u001b[0;32m--> 362\u001b[0m     raise AttributeError(dummy_error_message)\n\u001b[1;32m    363\u001b[0m attribute = <object>attr\n\u001b[1;32m    364\u001b[0m # Check for a descriptor (__get__ in Python)\n",
      "\u001b[0;31mAttributeError\u001b[0m: 'sage.rings.integer.Integer' object has no attribute 'sendline'"
     ]
    }
   ],
   "source": [
    "e = 2\n",
    "r = pow(g,e,p) * y % p\n",
    "s = -r % (p-1)\n",
    "m = e*s % (p-1)\n",
    "\n",
    "r.sendline(f\"{m}\")\n",
    "r.sendline(f\"{r}\")\n",
    "r.sendline(f\"{s}\")"
   ]
  },
  {
   "cell_type": "code",
   "execution_count": null,
   "id": "2ce2bdad-382f-4e49-9cab-e06adee7c489",
   "metadata": {},
   "outputs": [],
   "source": [
    "r.recvline()\n",
    "r.recvline()\n",
    "r.recvline()\n",
    "r.recvline()"
   ]
  },
  {
   "cell_type": "code",
   "execution_count": null,
   "id": "d8a01971-70a1-4264-8b54-3fb0123b3a3d",
   "metadata": {},
   "outputs": [],
   "source": []
  }
 ],
 "metadata": {
  "kernelspec": {
   "display_name": "SageMath 10.2",
   "language": "sage",
   "name": "sagemath"
  },
  "language_info": {
   "codemirror_mode": {
    "name": "ipython",
    "version": 3
   },
   "file_extension": ".py",
   "mimetype": "text/x-python",
   "name": "python",
   "nbconvert_exporter": "python",
   "pygments_lexer": "ipython3",
   "version": "3.11.1"
  }
 },
 "nbformat": 4,
 "nbformat_minor": 5
}
