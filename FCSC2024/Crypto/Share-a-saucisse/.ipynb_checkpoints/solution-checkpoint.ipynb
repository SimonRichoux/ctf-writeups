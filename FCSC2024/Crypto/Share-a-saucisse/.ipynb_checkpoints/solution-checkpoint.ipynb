{
 "cells": [
  {
   "cell_type": "code",
   "execution_count": 29,
   "id": "898b4023-63d9-4252-8670-03e296ae0a3f",
   "metadata": {},
   "outputs": [],
   "source": [
    "import json \n",
    "\n",
    "filename = \"output.txt\"\n",
    "text = None \n",
    "with open(filename, \"r\") as f:\n",
    "    text = f.read()\n",
    "\n",
    "unpack = json.loads(text)\n",
    "iv, flag_enc, shares = bytes.fromhex(unpack[\"iv\"]), bytes.fromhex(unpack[\"flag_enc\"]), unpack[\"shares\"]"
   ]
  },
  {
   "cell_type": "code",
   "execution_count": 30,
   "id": "b215993e-a7f0-480a-aae8-5306d3932ada",
   "metadata": {},
   "outputs": [],
   "source": [
    "I = [shares[i][0] for i in range (16)]\n",
    "J = [0] + I "
   ]
  },
  {
   "cell_type": "code",
   "execution_count": 31,
   "id": "707abd7f-af3e-4eb7-8428-937ac8e85605",
   "metadata": {},
   "outputs": [],
   "source": [
    "p = 931620319462745440509259849070939082848977\n",
    "Zp = FiniteField(p)\n",
    "R.<X> = PolynomialRing(Zp)"
   ]
  },
  {
   "cell_type": "code",
   "execution_count": 32,
   "id": "89670efb-99c7-4d06-8efd-e4075f15b3dc",
   "metadata": {},
   "outputs": [],
   "source": [
    "def Pi (i):\n",
    "    global J\n",
    "    P = prod([X-j for j in J if j != i])\n",
    "    Q = prod([i-j for j in J if j != i])\n",
    "    return P/Q"
   ]
  },
  {
   "cell_type": "code",
   "execution_count": 33,
   "id": "9d326a6d-b75c-4e53-907b-c6a40a72b7ac",
   "metadata": {},
   "outputs": [],
   "source": [
    "S = sum([shares[i][1] * Pi(I[i]) for i in range(16)])\n",
    "T = Pi(0)"
   ]
  },
  {
   "cell_type": "code",
   "execution_count": 34,
   "id": "53c3c01a-cb73-4f2c-a10a-657ff8a94818",
   "metadata": {},
   "outputs": [],
   "source": [
    "M = matrix(ZZ, 18)\n",
    "for i in range (16):\n",
    "    M[i,0] = int(T[i+1])\n",
    "    M[i,1] = int(S[i+1])\n",
    "    M[i,2+i] = -p\n",
    "M[16,0] = 1\n",
    "M[17,1] = 2**128"
   ]
  },
  {
   "cell_type": "code",
   "execution_count": 36,
   "id": "1f524316-a69e-46d3-9459-382cc2358c2d",
   "metadata": {},
   "outputs": [
    {
     "name": "stdout",
     "output_type": "stream",
     "text": [
      "b'FCSC{67ff5c80109bf5fb1340d1d3da6d94c2fa6c22523e49de2bd3b25df02580d257}'\n"
     ]
    }
   ],
   "source": [
    "from Crypto.Cipher import AES\n",
    "from Crypto.Util.Padding import pad\n",
    "from Crypto.Util.number import long_to_bytes\n",
    "\n",
    "for v in M.transpose().LLL():\n",
    "    if abs(v[-1]) == 2**128:\n",
    "        try:\n",
    "            key = long_to_bytes(abs(v[-2]))\n",
    "            E = AES.new(key, mode = AES.MODE_CBC, iv = iv)\n",
    "            flag = E.decrypt(flag_enc).strip()\n",
    "            if b\"FCSC\" in flag:\n",
    "                print(flag)\n",
    "                break\n",
    "        except:\n",
    "            continue"
   ]
  },
  {
   "cell_type": "code",
   "execution_count": null,
   "id": "022d1774-903a-4246-ba2d-cdb8afe5c283",
   "metadata": {},
   "outputs": [],
   "source": []
  }
 ],
 "metadata": {
  "kernelspec": {
   "display_name": "SageMath 10.2",
   "language": "sage",
   "name": "sagemath"
  },
  "language_info": {
   "codemirror_mode": {
    "name": "ipython",
    "version": 3
   },
   "file_extension": ".py",
   "mimetype": "text/x-python",
   "name": "python",
   "nbconvert_exporter": "python",
   "pygments_lexer": "ipython3",
   "version": "3.11.1"
  }
 },
 "nbformat": 4,
 "nbformat_minor": 5
}
